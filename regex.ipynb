{
  "nbformat": 4,
  "nbformat_minor": 0,
  "metadata": {
    "kernelspec": {
      "display_name": "Python 3",
      "language": "python",
      "name": "python3"
    },
    "language_info": {
      "codemirror_mode": {
        "name": "ipython",
        "version": 3
      },
      "file_extension": ".py",
      "mimetype": "text/x-python",
      "name": "python",
      "nbconvert_exporter": "python",
      "pygments_lexer": "ipython3",
      "version": "3.7.3"
    },
    "toc": {
      "base_numbering": 1,
      "nav_menu": {},
      "number_sections": true,
      "sideBar": true,
      "skip_h1_title": false,
      "title_cell": "Table of Contents",
      "title_sidebar": "Contents",
      "toc_cell": false,
      "toc_position": {},
      "toc_section_display": true,
      "toc_window_display": false
    },
    "colab": {
      "name": "regex.ipynb",
      "provenance": [],
      "include_colab_link": true
    }
  },
  "cells": [
    {
      "cell_type": "markdown",
      "metadata": {
        "id": "view-in-github",
        "colab_type": "text"
      },
      "source": [
        "<a href=\"https://colab.research.google.com/github/annagradziel12/Python_podstawy/blob/master/regex.ipynb\" target=\"_parent\"><img src=\"https://colab.research.google.com/assets/colab-badge.svg\" alt=\"Open In Colab\"/></a>"
      ]
    },
    {
      "cell_type": "markdown",
      "metadata": {
        "id": "Pij94SeBaDEd",
        "colab_type": "text"
      },
      "source": [
        "REGEX - wyrażenia regularne\n",
        "--------------------"
      ]
    },
    {
      "cell_type": "markdown",
      "metadata": {
        "id": "enW8InwbaDEg",
        "colab_type": "text"
      },
      "source": [
        "Funkcja match() zwraca znaleziony napis, jeśli od początku pasuje do patternu. W innym przypadku zwróci None."
      ]
    },
    {
      "cell_type": "code",
      "metadata": {
        "id": "mEScYnkpaDEh",
        "colab_type": "code",
        "colab": {}
      },
      "source": [
        "import re"
      ],
      "execution_count": null,
      "outputs": []
    },
    {
      "cell_type": "code",
      "metadata": {
        "id": "NTUvUDRGaDEn",
        "colab_type": "code",
        "colab": {},
        "outputId": "605d401e-b3f4-4198-fac6-cf7ed8cd93fb"
      },
      "source": [
        "print('\\tTekst\\n')"
      ],
      "execution_count": null,
      "outputs": [
        {
          "output_type": "stream",
          "text": [
            "\tTekst\n",
            "\n"
          ],
          "name": "stdout"
        }
      ]
    },
    {
      "cell_type": "code",
      "metadata": {
        "id": "3Ei-CPUfaDEs",
        "colab_type": "code",
        "colab": {},
        "outputId": "92f5a51c-45bf-42e3-8108-e21e698c7614"
      },
      "source": [
        "print(r'\\tTekst')"
      ],
      "execution_count": null,
      "outputs": [
        {
          "output_type": "stream",
          "text": [
            "\\tTekst\n"
          ],
          "name": "stdout"
        }
      ]
    },
    {
      "cell_type": "code",
      "metadata": {
        "id": "QL32zUPpaDEv",
        "colab_type": "code",
        "colab": {},
        "outputId": "33908f68-4350-401b-bbfc-b6dfc7fd61b5"
      },
      "source": [
        "pattern = r\"napis\"\n",
        "sequence = \"moj super napis\"\n",
        "print(re.match(pattern, sequence))"
      ],
      "execution_count": null,
      "outputs": [
        {
          "output_type": "stream",
          "text": [
            "None\n"
          ],
          "name": "stdout"
        }
      ]
    },
    {
      "cell_type": "code",
      "metadata": {
        "id": "5-crkT1qaDEx",
        "colab_type": "code",
        "colab": {},
        "outputId": "9e95619a-c5af-4920-ce55-ac78117e8b2a"
      },
      "source": [
        "pattern = r\"napis\"\n",
        "sequence = \"napis tu jest napisany\"\n",
        "print(re.match(pattern, sequence))"
      ],
      "execution_count": null,
      "outputs": [
        {
          "output_type": "stream",
          "text": [
            "<re.Match object; span=(0, 5), match='napis'>\n"
          ],
          "name": "stdout"
        }
      ]
    },
    {
      "cell_type": "code",
      "metadata": {
        "id": "-NrsLXxxaDE0",
        "colab_type": "code",
        "colab": {},
        "outputId": "46c5c881-2ca3-4c10-d738-3da86ad88bae"
      },
      "source": [
        "pattern = r\"napis\"\n",
        "sequence = \"napis tu jest napisany\"\n",
        "print(re.match(pattern, sequence).group())"
      ],
      "execution_count": null,
      "outputs": [
        {
          "output_type": "stream",
          "text": [
            "napis\n"
          ],
          "name": "stdout"
        }
      ]
    },
    {
      "cell_type": "markdown",
      "metadata": {
        "id": "TXog2AQoaDE2",
        "colab_type": "text"
      },
      "source": [
        "search() w przeciwieństwie do match szuka patternu w całym stringu"
      ]
    },
    {
      "cell_type": "code",
      "metadata": {
        "id": "uPnU2RW7aDE3",
        "colab_type": "code",
        "colab": {},
        "outputId": "02a26308-6db5-44e1-ded9-515f13ab9627"
      },
      "source": [
        "pattern = r\"napis\"\n",
        "sequence = \"To taki napis\"\n",
        "print(re.search(pattern, sequence).group())"
      ],
      "execution_count": null,
      "outputs": [
        {
          "output_type": "stream",
          "text": [
            "napis\n"
          ],
          "name": "stdout"
        }
      ]
    },
    {
      "cell_type": "code",
      "metadata": {
        "id": "4KHMQYh8aDE5",
        "colab_type": "code",
        "colab": {},
        "outputId": "65f8508c-6749-4dbe-93ff-96e85d7ea075"
      },
      "source": [
        "pattern = \"n\\.\"\n",
        "zwykly_napis_1 = \"napis\"\n",
        "zwykly_napis_2 = \"n23\"\n",
        "print(re.search(pattern, zwykly_napis_1))\n",
        "print(re.search(pattern, zwykly_napis_2))"
      ],
      "execution_count": null,
      "outputs": [
        {
          "output_type": "stream",
          "text": [
            "None\n",
            "None\n"
          ],
          "name": "stdout"
        }
      ]
    },
    {
      "cell_type": "markdown",
      "metadata": {
        "id": "eIaF6zbAaDE7",
        "colab_type": "text"
      },
      "source": [
        "Kropka oznacza dowolny znak, oprócz znaku nowej linii"
      ]
    },
    {
      "cell_type": "code",
      "metadata": {
        "id": "_wCZxCCdaDE8",
        "colab_type": "code",
        "colab": {},
        "outputId": "dc803cac-20cd-4d90-82d0-646eb65a204e"
      },
      "source": [
        "print(re.search(r'N.p.s', 'Napis'))"
      ],
      "execution_count": null,
      "outputs": [
        {
          "output_type": "stream",
          "text": [
            "<re.Match object; span=(0, 5), match='Napis'>\n"
          ],
          "name": "stdout"
        }
      ]
    },
    {
      "cell_type": "markdown",
      "metadata": {
        "id": "QBGuSDSWaDE-",
        "colab_type": "text"
      },
      "source": [
        "^ oznacza początek napisu"
      ]
    },
    {
      "cell_type": "code",
      "metadata": {
        "id": "Ul4w19ZSaDE-",
        "colab_type": "code",
        "colab": {},
        "outputId": "2d5181f1-eaaf-4237-c6e9-59f609b89099"
      },
      "source": [
        "print(re.search(r'^Na.', 'Napis').group())\n",
        "print(re.search(r'^Na.', 'Na? jj').group())"
      ],
      "execution_count": null,
      "outputs": [
        {
          "output_type": "stream",
          "text": [
            "Nap\n",
            "Na?\n"
          ],
          "name": "stdout"
        }
      ]
    },
    {
      "cell_type": "markdown",
      "metadata": {
        "id": "Qf5oIGeKaDFA",
        "colab_type": "text"
      },
      "source": [
        "$ oznacza koniec napisu"
      ]
    },
    {
      "cell_type": "code",
      "metadata": {
        "id": "fNKEgdGkaDFA",
        "colab_type": "code",
        "colab": {},
        "outputId": "8e8d27a9-c4e4-4f94-a7ab-68784a137581"
      },
      "source": [
        "print(re.search(r'Na.$', 'Napis'))"
      ],
      "execution_count": null,
      "outputs": [
        {
          "output_type": "stream",
          "text": [
            "<re.Match object; span=(0, 3), match='Nap'>\n"
          ],
          "name": "stdout"
        }
      ]
    },
    {
      "cell_type": "markdown",
      "metadata": {
        "id": "DwVmgLHqaDFD",
        "colab_type": "text"
      },
      "source": [
        "\\* powtarza ostatni znak zero lub wiele razy"
      ]
    },
    {
      "cell_type": "code",
      "metadata": {
        "id": "fCDRy2j9aDFE",
        "colab_type": "code",
        "colab": {},
        "outputId": "438264dc-1015-45c4-9fd6-f7d7fb2dab1d"
      },
      "source": [
        "print(re.search(r'^Na.*', 'Napis').group())"
      ],
      "execution_count": null,
      "outputs": [
        {
          "output_type": "stream",
          "text": [
            "Napis\n"
          ],
          "name": "stdout"
        }
      ]
    },
    {
      "cell_type": "markdown",
      "metadata": {
        "id": "t3L3BSrmaDFJ",
        "colab_type": "text"
      },
      "source": [
        "\\+ powtarza ostatni znak przynajmniej raz"
      ]
    },
    {
      "cell_type": "code",
      "metadata": {
        "id": "pHUPIM6CaDFJ",
        "colab_type": "code",
        "colab": {},
        "outputId": "85510094-0c5a-4311-fbff-13d2281900e0"
      },
      "source": [
        "print(re.search(r'Na.*', 'Na'))\n",
        "print(re.search(r'Na.+', 'Na'))"
      ],
      "execution_count": null,
      "outputs": [
        {
          "output_type": "stream",
          "text": [
            "<re.Match object; span=(0, 2), match='Na'>\n",
            "None\n"
          ],
          "name": "stdout"
        }
      ]
    },
    {
      "cell_type": "markdown",
      "metadata": {
        "id": "8cPuj7NDaDFL",
        "colab_type": "text"
      },
      "source": [
        "Czasem możemy chcieć zawęzić zakres np w przypadku szukania takiego wzorca:\n",
        "(.*) w takim stringu\n",
        "\n",
        "\"(a) b (c)\"\n",
        "\n",
        " zostanie znalezione \n",
        " \n",
        " \"(a) b (c)\" \n",
        " \n",
        " zamiast jedynie \n",
        " \n",
        " (a)\n",
        "\n",
        "? w skrócie ogranicza zakres do jak najmniejszego"
      ]
    },
    {
      "cell_type": "code",
      "metadata": {
        "id": "Qe9COt5CaDFM",
        "colab_type": "code",
        "colab": {},
        "outputId": "7f0a5dec-9fe6-4d2f-e9f9-160481412b48"
      },
      "source": [
        "print(re.search(r'Na*?', 'Naaaaa')) # zero lub jeden\n",
        "print(re.search(r'Na*', 'Naaaaa'))\n",
        "print('\\n')\n",
        "print(re.search(r'a+?', 'Naaaaa')) # mimum jeden\n",
        "print(re.search(r'a+', 'Naaaaa'))"
      ],
      "execution_count": null,
      "outputs": [
        {
          "output_type": "stream",
          "text": [
            "<re.Match object; span=(0, 1), match='N'>\n",
            "<re.Match object; span=(0, 6), match='Naaaaa'>\n",
            "\n",
            "\n",
            "<re.Match object; span=(1, 2), match='a'>\n",
            "<re.Match object; span=(1, 6), match='aaaaa'>\n"
          ],
          "name": "stdout"
        }
      ]
    },
    {
      "cell_type": "markdown",
      "metadata": {
        "id": "sWTf0XfgaDFO",
        "colab_type": "text"
      },
      "source": [
        "Jeśli natomiast chcemy wykorzystać poznane powyżej symbole dla większej grupy znaków to możemy zgrupować je w [ ] i następnie użyć któregoś z symbolu lub symboli"
      ]
    },
    {
      "cell_type": "code",
      "metadata": {
        "id": "oEtbnoVvaDFO",
        "colab_type": "code",
        "colab": {},
        "outputId": "90d56fa4-6eea-4c7a-9984-3b041528f378"
      },
      "source": [
        "print(re.search(r'[^*?lj]', '*?falafelhh'))"
      ],
      "execution_count": null,
      "outputs": [
        {
          "output_type": "stream",
          "text": [
            "<re.Match object; span=(2, 3), match='f'>\n"
          ],
          "name": "stdout"
        }
      ]
    },
    {
      "cell_type": "markdown",
      "metadata": {
        "id": "jAGA8JAxaDFQ",
        "colab_type": "text"
      },
      "source": [
        "Istnieją też skróty, które pozwalają nam wyszukiwać grupy znaków szybciej\n",
        "\n",
        "    * \\d - cyfry\n",
        "    * \\D - nie cyfry\n",
        "    * \\s - spacje, taby, nowe linie itp\n",
        "    * \\S - stringi, włączając w to znaki specjalne oraz cyfry\n",
        "    * \\w - słowa, czyli j.w. bez znaków specjalnych [a-zA-Z0-9_]\n",
        "    * \\W - zaprzeczenie w.w."
      ]
    },
    {
      "cell_type": "code",
      "metadata": {
        "id": "79ETIFyxaDFQ",
        "colab_type": "code",
        "colab": {},
        "outputId": "71874c2e-21d7-4485-97bf-e9c2d33341fb"
      },
      "source": [
        "print(re.search(r'\\s+', 'Warszawa        to piekne miasto'))"
      ],
      "execution_count": null,
      "outputs": [
        {
          "output_type": "stream",
          "text": [
            "<re.Match object; span=(8, 16), match='        '>\n"
          ],
          "name": "stdout"
        }
      ]
    },
    {
      "cell_type": "code",
      "metadata": {
        "id": "uIkdl8aBaDFS",
        "colab_type": "code",
        "colab": {},
        "outputId": "1a31ca21-fe96-4fc4-ee02-41625391dd80"
      },
      "source": [
        "print(re.search(r'\\S+', 'Warszawą to piekne miasto'))"
      ],
      "execution_count": null,
      "outputs": [
        {
          "output_type": "stream",
          "text": [
            "<re.Match object; span=(0, 8), match='Warszawą'>\n"
          ],
          "name": "stdout"
        }
      ]
    },
    {
      "cell_type": "code",
      "metadata": {
        "id": "2TjBVwevaDFV",
        "colab_type": "code",
        "colab": {},
        "outputId": "276677b4-4e06-4914-cb99-62444b91e38e"
      },
      "source": [
        "print(re.search(r'\\S+', 'Wars334&zawa to piekne miasto'))"
      ],
      "execution_count": null,
      "outputs": [
        {
          "output_type": "stream",
          "text": [
            "<re.Match object; span=(0, 12), match='Wars334&zawa'>\n"
          ],
          "name": "stdout"
        }
      ]
    },
    {
      "cell_type": "code",
      "metadata": {
        "id": "gdBFXuAiaDFX",
        "colab_type": "code",
        "colab": {},
        "outputId": "b93748f8-8823-485c-a52c-82cbca1ffa65"
      },
      "source": [
        "print(re.search(r'\\w+', 'Warszawą to piekne miasto'))"
      ],
      "execution_count": null,
      "outputs": [
        {
          "output_type": "stream",
          "text": [
            "<re.Match object; span=(0, 8), match='Warszawą'>\n"
          ],
          "name": "stdout"
        }
      ]
    },
    {
      "cell_type": "code",
      "metadata": {
        "id": "VbsM_6AtaDFZ",
        "colab_type": "code",
        "colab": {},
        "outputId": "bbec38b0-df34-47fc-8076-df69f9abf06d"
      },
      "source": [
        "print(re.search(r'\\W+', 'Warszawa++?*)%^&)234??? to piekne miasto'))"
      ],
      "execution_count": null,
      "outputs": [
        {
          "output_type": "stream",
          "text": [
            "<re.Match object; span=(8, 17), match='++?*)%^&)'>\n"
          ],
          "name": "stdout"
        }
      ]
    },
    {
      "cell_type": "code",
      "metadata": {
        "id": "o3yP6NYRaDFb",
        "colab_type": "code",
        "colab": {},
        "outputId": "b599e9ca-fa67-46a0-9fd6-c22146e02da7"
      },
      "source": [
        "print(re.search(r'\\d+', 'Warszawa++?*)%^&)234??? to piekne miasto'))"
      ],
      "execution_count": null,
      "outputs": [
        {
          "output_type": "stream",
          "text": [
            "<re.Match object; span=(17, 20), match='234'>\n"
          ],
          "name": "stdout"
        }
      ]
    },
    {
      "cell_type": "code",
      "metadata": {
        "id": "zC71Nhk3aDFc",
        "colab_type": "code",
        "colab": {},
        "outputId": "f2c17a2e-5f15-4f2d-bd90-190b1ce7ae35"
      },
      "source": [
        "print(re.search(r'\\D+', 'Warszawa++?*)%^&)234??? to piekne miasto'))"
      ],
      "execution_count": null,
      "outputs": [
        {
          "output_type": "stream",
          "text": [
            "<re.Match object; span=(0, 17), match='Warszawa++?*)%^&)'>\n"
          ],
          "name": "stdout"
        }
      ]
    },
    {
      "cell_type": "markdown",
      "metadata": {
        "id": "8_xrhNMOaDFf",
        "colab_type": "text"
      },
      "source": [
        "{m} oznacza ile powtórzeń danego znaku chcemy"
      ]
    },
    {
      "cell_type": "code",
      "metadata": {
        "id": "vNDxymPuaDFf",
        "colab_type": "code",
        "colab": {},
        "outputId": "5736406e-795d-4976-9c39-0620ae9a0c1a"
      },
      "source": [
        "print(re.search(r'\\d{2}-\\d{3}', '02-081').group())\n",
        "print(re.search(r'\\d{2}-\\d{3}', '022-081').group())"
      ],
      "execution_count": null,
      "outputs": [
        {
          "output_type": "stream",
          "text": [
            "02-081\n",
            "22-081\n"
          ],
          "name": "stdout"
        }
      ]
    },
    {
      "cell_type": "markdown",
      "metadata": {
        "id": "g-KpEJYBaDFh",
        "colab_type": "text"
      },
      "source": [
        "{m,n} określa dokładny zakres ilości powtórzeń"
      ]
    },
    {
      "cell_type": "code",
      "metadata": {
        "id": "bbBrx3wGaDFi",
        "colab_type": "code",
        "colab": {},
        "outputId": "0769ad78-b526-466f-e20b-664f1e7bcbdc"
      },
      "source": [
        "print(re.search(r'\\d{3,4}-\\d{3}', '02-081'))\n",
        "print(re.search(r'\\d{2,3}-\\d{3}', '022-081'))"
      ],
      "execution_count": null,
      "outputs": [
        {
          "output_type": "stream",
          "text": [
            "None\n",
            "<re.Match object; span=(0, 7), match='022-081'>\n"
          ],
          "name": "stdout"
        }
      ]
    },
    {
      "cell_type": "markdown",
      "metadata": {
        "id": "S0D3GJ2OaDFk",
        "colab_type": "text"
      },
      "source": [
        "A co jeśli chcemy znaleźć napisy z ukośnikami, kropkami lub plusami? Może posłużyć się znakiem 'ucieczki': \\"
      ]
    },
    {
      "cell_type": "code",
      "metadata": {
        "id": "QeUWT3Y1aDFk",
        "colab_type": "code",
        "colab": {},
        "outputId": "48734cae-152f-477d-987e-79057c647527"
      },
      "source": [
        "print(re.search(r'\\d+\\+\\d+', '22+2'))\n",
        "print(re.search(r'\\d+\\*\\d+', '2*2'))\n",
        "print(re.search(r'\\d+\\+\\d+', '+2'))"
      ],
      "execution_count": null,
      "outputs": [
        {
          "output_type": "stream",
          "text": [
            "<re.Match object; span=(0, 4), match='22+2'>\n",
            "<re.Match object; span=(0, 3), match='2*2'>\n",
            "None\n"
          ],
          "name": "stdout"
        }
      ]
    },
    {
      "cell_type": "markdown",
      "metadata": {
        "id": "fUKQeeJjaDFm",
        "colab_type": "text"
      },
      "source": [
        "W nawiasach kwadratowych możemy określać również zakres np od a do z: [a-z] oraz od 0 do 9 [0-9], czyli w praktyce wszystkie litery lub cyfry"
      ]
    },
    {
      "cell_type": "code",
      "metadata": {
        "id": "tPpv9SBLaDFn",
        "colab_type": "code",
        "colab": {},
        "outputId": "463f5fad-da83-4696-c4d6-d09042dd52e5"
      },
      "source": [
        "print(re.search(r'[a-z]', 'falafel'))\n",
        "print(re.search(r'[a-z]+', 'falafel'))\n",
        "\n",
        "print(re.search(r'\\d', '9573528'))\n",
        "print(re.search(r'[0-8]+', '9573528'))\n",
        "\n",
        "print(re.search(r'[0-9]+[a-z]+', '9573528hafdyusk94635'))\n",
        "print(re.search(r'[0-9][a-z]+', '9573528hafdyusk94635'))"
      ],
      "execution_count": null,
      "outputs": [
        {
          "output_type": "stream",
          "text": [
            "<re.Match object; span=(0, 1), match='f'>\n",
            "<re.Match object; span=(0, 7), match='falafel'>\n",
            "<re.Match object; span=(0, 1), match='9'>\n",
            "<re.Match object; span=(1, 7), match='573528'>\n",
            "<re.Match object; span=(0, 15), match='9573528hafdyusk'>\n",
            "<re.Match object; span=(6, 15), match='8hafdyusk'>\n"
          ],
          "name": "stdout"
        }
      ]
    },
    {
      "cell_type": "code",
      "metadata": {
        "id": "JoiUBZy2aDFo",
        "colab_type": "code",
        "colab": {},
        "outputId": "7ebea767-dc4c-4673-c0e5-9b928e58112a"
      },
      "source": [
        "print(re.search(r'[abc]+', 'abcccccabcabcabc'))\n",
        "print(re.search(r'[abc]+', 'abccccc_abc_abc_abc'))\n",
        "print(re.search(r'[c-d]+', 'abccccc_abc_abc_abc'))\n",
        "print(re.search(r'[c-d]+?', 'abccccc_abc_abc_abc'))"
      ],
      "execution_count": null,
      "outputs": [
        {
          "output_type": "stream",
          "text": [
            "<re.Match object; span=(0, 16), match='abcccccabcabcabc'>\n",
            "<re.Match object; span=(0, 7), match='abccccc'>\n",
            "<re.Match object; span=(2, 7), match='ccccc'>\n",
            "<re.Match object; span=(2, 3), match='c'>\n"
          ],
          "name": "stdout"
        }
      ]
    },
    {
      "cell_type": "markdown",
      "metadata": {
        "id": "TyclQ5hlaDFq",
        "colab_type": "text"
      },
      "source": [
        "Znaki specjalne tracą swoje specjalne znaczenie w nawiasach kwadratowych np [(+*)] oznacza znajdź mi otwarcie okrągłego nawiasu, plus, gwiazdkę lub zamknięcie okrągłego nawiasu"
      ]
    },
    {
      "cell_type": "code",
      "metadata": {
        "id": "EubSpcp5aDFq",
        "colab_type": "code",
        "colab": {},
        "outputId": "84f4cd5b-92f4-46d2-e5b7-e5417147713b"
      },
      "source": [
        "print(re.search(r'[(+*)]', 'ababa + ababa'))\n",
        "print(re.search(r'[(+*)]+', 'ababa ((++ ababa '))"
      ],
      "execution_count": null,
      "outputs": [
        {
          "output_type": "stream",
          "text": [
            "<re.Match object; span=(6, 7), match='+'>\n",
            "<re.Match object; span=(6, 10), match='((++'>\n"
          ],
          "name": "stdout"
        }
      ]
    },
    {
      "cell_type": "markdown",
      "metadata": {
        "id": "9CDO4shBaDFs",
        "colab_type": "text"
      },
      "source": [
        "W nawiasach kwadratowych zastosowanie ^ oznacza znak wykluczenia, a więc będziemy szukać wszystkiego poza tym znakiem"
      ]
    },
    {
      "cell_type": "code",
      "metadata": {
        "id": "GjxN9_2uaDFt",
        "colab_type": "code",
        "colab": {},
        "outputId": "5a0bf79f-7f4b-4715-da53-bc17767fc0ed"
      },
      "source": [
        "print(re.search(r'[^5]+jajko[^5]+', '551234jajko67589'))"
      ],
      "execution_count": null,
      "outputs": [
        {
          "output_type": "stream",
          "text": [
            "<re.Match object; span=(2, 13), match='1234jajko67'>\n"
          ],
          "name": "stdout"
        }
      ]
    },
    {
      "cell_type": "code",
      "metadata": {
        "id": "3-dqu3TGaDFu",
        "colab_type": "code",
        "colab": {},
        "outputId": "7db70a6c-6591-4912-87c0-dc665f29dddb"
      },
      "source": [
        "print(re.search(r'Warszawa|Krakow', 'Warszawa to piekne miasto'))"
      ],
      "execution_count": null,
      "outputs": [
        {
          "output_type": "stream",
          "text": [
            "<re.Match object; span=(0, 8), match='Warszawa'>\n"
          ],
          "name": "stdout"
        }
      ]
    },
    {
      "cell_type": "markdown",
      "metadata": {
        "id": "rt9sV4TbaDFw",
        "colab_type": "text"
      },
      "source": [
        "Aby znaleźć wszystkie dopasowania stosujemy findall() zamiast search()"
      ]
    },
    {
      "cell_type": "code",
      "metadata": {
        "id": "oE7tvZ79aDFw",
        "colab_type": "code",
        "colab": {},
        "outputId": "3727513b-2331-445d-9d96-29d6c3fbb5db"
      },
      "source": [
        "print(re.findall(r'\\w+', 'Warszawa to piekne miasto'))"
      ],
      "execution_count": null,
      "outputs": [
        {
          "output_type": "stream",
          "text": [
            "['Warszawa', 'to', 'piekne', 'miasto']\n"
          ],
          "name": "stdout"
        }
      ]
    },
    {
      "cell_type": "markdown",
      "metadata": {
        "id": "K5EDt-XkaDFy",
        "colab_type": "text"
      },
      "source": [
        "Możemy też wykorzystać wyrażenia regularne do zamiany na inny string dzięki wykorzystaniu sub()"
      ]
    },
    {
      "cell_type": "code",
      "metadata": {
        "id": "TQGD55KaaDFy",
        "colab_type": "code",
        "colab": {},
        "outputId": "13a91d74-fd79-4a83-8773-50a12759ee56"
      },
      "source": [
        "print(re.sub(r'\\w+', 'zmieniony','Warszawa to piekne miasto &&??'))"
      ],
      "execution_count": null,
      "outputs": [
        {
          "output_type": "stream",
          "text": [
            "zmieniony zmieniony zmieniony zmieniony &&??\n"
          ],
          "name": "stdout"
        }
      ]
    },
    {
      "cell_type": "markdown",
      "metadata": {
        "id": "8rUr49UGaDF0",
        "colab_type": "text"
      },
      "source": [
        "-------------\n",
        "https://regex101.com/"
      ]
    },
    {
      "cell_type": "markdown",
      "metadata": {
        "id": "irAXYjrbaDF0",
        "colab_type": "text"
      },
      "source": [
        "------------------\n",
        "Ok, przejdźmy teraz do ćwiczeń:"
      ]
    },
    {
      "cell_type": "markdown",
      "metadata": {
        "id": "jLa1h4enaDF1",
        "colab_type": "text"
      },
      "source": [
        "1. Znajdźmy w poniższym stringu numery telefonów"
      ]
    },
    {
      "cell_type": "code",
      "metadata": {
        "id": "fkF7fX3oaDF1",
        "colab_type": "code",
        "colab": {},
        "outputId": "4b8ee76f-4ba1-421f-d8f8-472f75d2a2a0"
      },
      "source": [
        "string_to_clean = 'BTgMrF0npR665-5544-63BTgMrF0npR735-5520-51BTgMrF0npR885-5543-07BTgMrF0npR795-5583-74BTgMrF0npR505-5574-48BTgMrF0npR735-5514-34BTgMrF0npR455-5578-66BTgMrF0npR575-5596-20BTgMrF0npR605-5581-78BTgMrF0npR695-5575-18BTgMrF0npR885-5525-86BTgMrF0npR455-5535-05BTgMrF0npR785-5577-67BTgMrF0npR665-5533-11BTgMrF0npR695-5594-32BTgMrF0npR535-5540-51BTgMrF0npR785-5568-32BTgMrF0npR575-5592-96BTgMrF0npR455-5563-01BTgMrF0npR605-5537-21BTgMrF0npR455-5531-45BTgMrF0npR725-5534-83BTgMrF0npR885-5542-59BTgMrF0npR795-5516-02BTgMrF0npR695-5585-66BTgMrF0npR505-5572-18BTgMrF0npR735-5590-00BTgMrF0npR505-5543-71BTgMrF0npR735-5542-93BTgMrF0npR535-5563-43BTgMrF0npR665-5518-66BTgMrF0npR665-5538-23BTgMrF0npR605-5568-72BTgMrF0npR885-5549-15BTgMrF0npR455-5566-28BTgMrF0npR785-5580-92BTgMrF0npR695-5583-90BTgMrF0npR535-5561-47BTgMrF0npR505-5586-43BTgMrF0npR455-5550-78 '\n",
        "string_to_clean"
      ],
      "execution_count": null,
      "outputs": [
        {
          "output_type": "execute_result",
          "data": {
            "text/plain": [
              "'BTgMrF0npR665-5544-63BTgMrF0npR735-5520-51BTgMrF0npR885-5543-07BTgMrF0npR795-5583-74BTgMrF0npR505-5574-48BTgMrF0npR735-5514-34BTgMrF0npR455-5578-66BTgMrF0npR575-5596-20BTgMrF0npR605-5581-78BTgMrF0npR695-5575-18BTgMrF0npR885-5525-86BTgMrF0npR455-5535-05BTgMrF0npR785-5577-67BTgMrF0npR665-5533-11BTgMrF0npR695-5594-32BTgMrF0npR535-5540-51BTgMrF0npR785-5568-32BTgMrF0npR575-5592-96BTgMrF0npR455-5563-01BTgMrF0npR605-5537-21BTgMrF0npR455-5531-45BTgMrF0npR725-5534-83BTgMrF0npR885-5542-59BTgMrF0npR795-5516-02BTgMrF0npR695-5585-66BTgMrF0npR505-5572-18BTgMrF0npR735-5590-00BTgMrF0npR505-5543-71BTgMrF0npR735-5542-93BTgMrF0npR535-5563-43BTgMrF0npR665-5518-66BTgMrF0npR665-5538-23BTgMrF0npR605-5568-72BTgMrF0npR885-5549-15BTgMrF0npR455-5566-28BTgMrF0npR785-5580-92BTgMrF0npR695-5583-90BTgMrF0npR535-5561-47BTgMrF0npR505-5586-43BTgMrF0npR455-5550-78 '"
            ]
          },
          "metadata": {
            "tags": []
          },
          "execution_count": 57
        }
      ]
    },
    {
      "cell_type": "code",
      "metadata": {
        "id": "wXndpzbXaDF3",
        "colab_type": "code",
        "colab": {},
        "outputId": "533c9717-6ae1-48de-9243-720e885ffb35"
      },
      "source": [
        "print(re.findall(r'\\d{3}-\\d{4}-\\d{2}', string_to_clean))"
      ],
      "execution_count": null,
      "outputs": [
        {
          "output_type": "stream",
          "text": [
            "['665-5544-63', '735-5520-51', '885-5543-07', '795-5583-74', '505-5574-48', '735-5514-34', '455-5578-66', '575-5596-20', '605-5581-78', '695-5575-18', '885-5525-86', '455-5535-05', '785-5577-67', '665-5533-11', '695-5594-32', '535-5540-51', '785-5568-32', '575-5592-96', '455-5563-01', '605-5537-21', '455-5531-45', '725-5534-83', '885-5542-59', '795-5516-02', '695-5585-66', '505-5572-18', '735-5590-00', '505-5543-71', '735-5542-93', '535-5563-43', '665-5518-66', '665-5538-23', '605-5568-72', '885-5549-15', '455-5566-28', '785-5580-92', '695-5583-90', '535-5561-47', '505-5586-43', '455-5550-78']\n"
          ],
          "name": "stdout"
        }
      ]
    },
    {
      "cell_type": "markdown",
      "metadata": {
        "id": "E9yNE33kaDF5",
        "colab_type": "text"
      },
      "source": [
        "2. Znajdź jedynie imiona żeńskie, wyczyść je z innych znaków, jeśli będzie taka potrzeba"
      ]
    },
    {
      "cell_type": "code",
      "metadata": {
        "id": "5FAspjLXaDF5",
        "colab_type": "code",
        "colab": {},
        "outputId": "f7112147-44b3-4aaf-d641-7cfb411046c4"
      },
      "source": [
        "imiona = 'Balbina, Barbara, Beata, Berenika, Bernadeta, Bianka, Blanka, Bogda, Bogna, Bogumiła, Bogusława, Edyta, Bartłomiej, Bartosz, Bastian, Beniamin, Benjamin, Bernard, Błażej, Bogumił, Bolesław, Borys, Bożydar, Brajan, Eftalia, Elena, Eleonora, Eliza, Elwira, Jadwiga, Jagna, Jagoda, Jana, Janina, Jaśmina, Leokadia, Jessica, Joanna, Jola, Jacek, Jacob, Jakub, Jan, Janusz, Jarosław, Jeremi, Jeremiasz, Jerzy, Jędrzej, Joachim'\n",
        "imiona"
      ],
      "execution_count": null,
      "outputs": [
        {
          "output_type": "execute_result",
          "data": {
            "text/plain": [
              "'Balbina, Barbara, Beata, Berenika, Bernadeta, Bianka, Blanka, Bogda, Bogna, Bogumiła, Bogusława, Edyta, Bartłomiej, Bartosz, Bastian, Beniamin, Benjamin, Bernard, Błażej, Bogumił, Bolesław, Borys, Bożydar, Brajan, Eftalia, Elena, Eleonora, Eliza, Elwira, Jadwiga, Jagna, Jagoda, Jana, Janina, Jaśmina, Leokadia, Jessica, Joanna, Jola, Jacek, Jacob, Jakub, Jan, Janusz, Jarosław, Jeremi, Jeremiasz, Jerzy, Jędrzej, Joachim'"
            ]
          },
          "metadata": {
            "tags": []
          },
          "execution_count": 77
        }
      ]
    },
    {
      "cell_type": "code",
      "metadata": {
        "id": "s0Ly-V_faDF7",
        "colab_type": "code",
        "colab": {},
        "outputId": "0e092566-ceeb-4a53-fd4e-f86f4241b61f"
      },
      "source": [
        "imiona_zenskie = re.findall(r'\\w+a\\b', imiona)\n",
        "imiona_zenskie"
      ],
      "execution_count": null,
      "outputs": [
        {
          "output_type": "execute_result",
          "data": {
            "text/plain": [
              "['Balbina',\n",
              " 'Barbara',\n",
              " 'Beata',\n",
              " 'Berenika',\n",
              " 'Bernadeta',\n",
              " 'Bianka',\n",
              " 'Blanka',\n",
              " 'Bogda',\n",
              " 'Bogna',\n",
              " 'Bogumiła',\n",
              " 'Bogusława',\n",
              " 'Edyta',\n",
              " 'Eftalia',\n",
              " 'Elena',\n",
              " 'Eleonora',\n",
              " 'Eliza',\n",
              " 'Elwira',\n",
              " 'Jadwiga',\n",
              " 'Jagna',\n",
              " 'Jagoda',\n",
              " 'Jana',\n",
              " 'Janina',\n",
              " 'Jaśmina',\n",
              " 'Leokadia',\n",
              " 'Jessica',\n",
              " 'Joanna',\n",
              " 'Jola']"
            ]
          },
          "metadata": {
            "tags": []
          },
          "execution_count": 79
        }
      ]
    },
    {
      "cell_type": "markdown",
      "metadata": {
        "id": "ZTBK86nXaDF9",
        "colab_type": "text"
      },
      "source": [
        "3. Stwórz słownik ile razy występuje jak długi ciąg liter 'i' w napisie"
      ]
    },
    {
      "cell_type": "code",
      "metadata": {
        "id": "5H6BJ9WGaDF-",
        "colab_type": "code",
        "colab": {},
        "outputId": "1a3fc75d-2286-4ccb-bdc9-d36b21f0a27d"
      },
      "source": [
        "super_napis = 'piigiiiihiiiiiiiihihihihiffffffiiiiiiiiiiikikikikikikiloiiiiiiiiiiiiiaaaaaaappppppppppppppppyyyyyyyyyyyyhihihihihihiiiiiiii'\n",
        "super_napis"
      ],
      "execution_count": null,
      "outputs": [
        {
          "output_type": "execute_result",
          "data": {
            "text/plain": [
              "'piigiiiihiiiiiiiihihihihiffffffiiiiiiiiiiikikikikikikiloiiiiiiiiiiiiiaaaaaaappppppppppppppppyyyyyyyyyyyyhihihihihihiiiiiiii'"
            ]
          },
          "metadata": {
            "tags": []
          },
          "execution_count": 80
        }
      ]
    },
    {
      "cell_type": "code",
      "metadata": {
        "id": "3Q2LAp19aDGA",
        "colab_type": "code",
        "colab": {},
        "outputId": "7a10a6b2-c200-4de9-c8ad-6ff41f159938"
      },
      "source": [
        "litery_i = re.findall(r'i+', super_napis)\n",
        "print(litery_i)\n",
        "ilosc_liter_i = [len(x) for x in litery_i]\n",
        "ilosc_liter_i"
      ],
      "execution_count": null,
      "outputs": [
        {
          "output_type": "stream",
          "text": [
            "['ii', 'iiii', 'iiiiiiii', 'i', 'i', 'i', 'i', 'iiiiiiiiiii', 'i', 'i', 'i', 'i', 'i', 'i', 'iiiiiiiiiiiii', 'i', 'i', 'i', 'i', 'i', 'iiiiiiii']\n"
          ],
          "name": "stdout"
        },
        {
          "output_type": "execute_result",
          "data": {
            "text/plain": [
              "[2, 4, 8, 1, 1, 1, 1, 11, 1, 1, 1, 1, 1, 1, 13, 1, 1, 1, 1, 1, 8]"
            ]
          },
          "metadata": {
            "tags": []
          },
          "execution_count": 81
        }
      ]
    },
    {
      "cell_type": "code",
      "metadata": {
        "id": "SHsP0mrhaDGC",
        "colab_type": "code",
        "colab": {},
        "outputId": "9ce8637e-4f21-442b-f17e-ca3c2c852974"
      },
      "source": [
        "counter_i = {}\n",
        "for num in ilosc_liter_i:\n",
        "    if num in counter_i:\n",
        "        counter_i[num] +=1\n",
        "    else:\n",
        "        counter_i[num] = 1\n",
        "        \n",
        "counter_i"
      ],
      "execution_count": null,
      "outputs": [
        {
          "output_type": "execute_result",
          "data": {
            "text/plain": [
              "{2: 1, 4: 1, 8: 2, 1: 15, 11: 1, 13: 1}"
            ]
          },
          "metadata": {
            "tags": []
          },
          "execution_count": 82
        }
      ]
    },
    {
      "cell_type": "markdown",
      "metadata": {
        "id": "2rL-rtxgaDGF",
        "colab_type": "text"
      },
      "source": [
        "4. Znajdź adresy mailowe"
      ]
    },
    {
      "cell_type": "code",
      "metadata": {
        "id": "gW1_XFUIaDGF",
        "colab_type": "code",
        "colab": {},
        "outputId": "853f2ba5-912f-4633-d89d-326d19d71e74"
      },
      "source": [
        "napis = 'purple alice@google.com, blah monkey bob@abc.com blah dishwasher super_user@gmail.com'\n",
        "napis"
      ],
      "execution_count": null,
      "outputs": [
        {
          "output_type": "execute_result",
          "data": {
            "text/plain": [
              "'purple alice@google.com, blah monkey bob@abc.com blah dishwasher super_user@gmail.com'"
            ]
          },
          "metadata": {
            "tags": []
          },
          "execution_count": 83
        }
      ]
    },
    {
      "cell_type": "code",
      "metadata": {
        "id": "NHPe3WAYaDGI",
        "colab_type": "code",
        "colab": {},
        "outputId": "1b42d231-a995-4165-c10b-808192d5d088"
      },
      "source": [
        "maile = re.findall(r'\\w+@\\w+\\.\\w+', napis)\n",
        "maile"
      ],
      "execution_count": null,
      "outputs": [
        {
          "output_type": "execute_result",
          "data": {
            "text/plain": [
              "['alice@google.com', 'bob@abc.com', 'super_user@gmail.com']"
            ]
          },
          "metadata": {
            "tags": []
          },
          "execution_count": 84
        }
      ]
    },
    {
      "cell_type": "markdown",
      "metadata": {
        "id": "ZzwToTspaDGK",
        "colab_type": "text"
      },
      "source": [
        "5. Zamień domene z adresów mailowych na onet.pl"
      ]
    },
    {
      "cell_type": "code",
      "metadata": {
        "id": "qdRMretkaDGK",
        "colab_type": "code",
        "colab": {},
        "outputId": "ce191856-885d-45ab-dc35-8f08d163a248"
      },
      "source": [
        "napis = 'purple alice@google.com, blah monkey bob@abc.com blah dishwasher super_user@gmail.com'\n",
        "napis"
      ],
      "execution_count": null,
      "outputs": [
        {
          "output_type": "execute_result",
          "data": {
            "text/plain": [
              "'purple alice@google.com, blah monkey bob@abc.com blah dishwasher super_user@gmail.com'"
            ]
          },
          "metadata": {
            "tags": []
          },
          "execution_count": 85
        }
      ]
    },
    {
      "cell_type": "code",
      "metadata": {
        "id": "LtQiMxTraDGM",
        "colab_type": "code",
        "colab": {},
        "outputId": "f60df47d-5a03-4fac-9f2e-9e6f7fce122b"
      },
      "source": [
        "maile_z_onetu = re.sub(r'@\\w+\\.\\w+', '@onet.pl',napis)\n",
        "# maile_z_onetu = re.findall(r'\\w+@\\w+\\.\\w+', maile_z_onetu)\n",
        "maile_z_onetu"
      ],
      "execution_count": null,
      "outputs": [
        {
          "output_type": "execute_result",
          "data": {
            "text/plain": [
              "'purple alice@onet.pl, blah monkey bob@onet.pl blah dishwasher super_user@onet.pl'"
            ]
          },
          "metadata": {
            "tags": []
          },
          "execution_count": 87
        }
      ]
    },
    {
      "cell_type": "markdown",
      "metadata": {
        "id": "HO4SkU2IaDGO",
        "colab_type": "text"
      },
      "source": [
        "6. Napisz zapytanie wyszukujące, czy w stringu znajduje się 'q' lub 'Q'"
      ]
    },
    {
      "cell_type": "code",
      "metadata": {
        "id": "Z3BaejE_aDGO",
        "colab_type": "code",
        "colab": {}
      },
      "source": [
        "super_string = ',kwa kwa qua'"
      ],
      "execution_count": null,
      "outputs": []
    },
    {
      "cell_type": "code",
      "metadata": {
        "id": "d9KC-S03aDGP",
        "colab_type": "code",
        "colab": {},
        "outputId": "1db91ced-71ec-498e-9ca2-fb161cb57313"
      },
      "source": [
        "re.search(r'[q,Q]', super_string)"
      ],
      "execution_count": null,
      "outputs": [
        {
          "output_type": "execute_result",
          "data": {
            "text/plain": [
              "<re.Match object; span=(0, 1), match=','>"
            ]
          },
          "metadata": {
            "tags": []
          },
          "execution_count": 92
        }
      ]
    },
    {
      "cell_type": "markdown",
      "metadata": {
        "id": "9kLvuXkIaDGR",
        "colab_type": "text"
      },
      "source": [
        "7. Napisz zapytanie wyszukujące, czy w stringu znajduje się '*'"
      ]
    },
    {
      "cell_type": "code",
      "metadata": {
        "id": "71yY8CLTaDGS",
        "colab_type": "code",
        "colab": {}
      },
      "source": [
        "super_string = 'moj super string z gwiazdka *'"
      ],
      "execution_count": null,
      "outputs": []
    },
    {
      "cell_type": "code",
      "metadata": {
        "id": "IOoGFUN_aDGT",
        "colab_type": "code",
        "colab": {},
        "outputId": "0f5d48aa-c384-43e4-e5e1-abeb82969c1b"
      },
      "source": [
        "re.search(r'\\*', super_string)"
      ],
      "execution_count": null,
      "outputs": [
        {
          "output_type": "execute_result",
          "data": {
            "text/plain": [
              "<re.Match object; span=(28, 29), match='*'>"
            ]
          },
          "metadata": {
            "tags": []
          },
          "execution_count": 94
        }
      ]
    },
    {
      "cell_type": "markdown",
      "metadata": {
        "id": "CPVsPZf7aDGW",
        "colab_type": "text"
      },
      "source": [
        "8. Stwórz słownik danych osobowych z poniższego stringa"
      ]
    },
    {
      "cell_type": "code",
      "metadata": {
        "id": "Bu0gVGpRaDGW",
        "colab_type": "code",
        "colab": {}
      },
      "source": [
        "string_z_danymi = 'Karol Kowalski, ul.Prosta 5/10, 675-835-578, 04-445'"
      ],
      "execution_count": null,
      "outputs": []
    },
    {
      "cell_type": "code",
      "metadata": {
        "id": "LnJ32G8IaDGZ",
        "colab_type": "code",
        "colab": {},
        "outputId": "29ac9ba7-0128-4536-b050-81448e1ef91f"
      },
      "source": [
        "slownik_z_danymi = {\n",
        "    'imie i nazwisko': re.search(r'^.+?,', string_z_danymi).group(),\n",
        "    'ulica': re.search(r'ul\\..+?,', string_z_danymi).group(),\n",
        "    'telefon': re.search(r'\\d{3}-\\d{3}-\\d{3}', string_z_danymi).group(),\n",
        "    'kod pocztowy': re.search(r' \\d{2}-\\d{3}', string_z_danymi).group(),\n",
        "}\n",
        "slownik_z_danymi"
      ],
      "execution_count": null,
      "outputs": [
        {
          "output_type": "execute_result",
          "data": {
            "text/plain": [
              "{'imie i nazwisko': 'Karol Kowalski,',\n",
              " 'ulica': 'ul.Prosta 5/10,',\n",
              " 'telefon': '675-835-578',\n",
              " 'kod pocztowy': ' 04-445'}"
            ]
          },
          "metadata": {
            "tags": []
          },
          "execution_count": 99
        }
      ]
    },
    {
      "cell_type": "markdown",
      "metadata": {
        "id": "ayoA_ZMNaDGb",
        "colab_type": "text"
      },
      "source": [
        "9. Napisz zapytanie wyszukujące, czy w stringu znajdują się dwie samogłoski pod rząd (a,e,i,o,u)"
      ]
    },
    {
      "cell_type": "code",
      "metadata": {
        "id": "n_pF6rj5aDGb",
        "colab_type": "code",
        "colab": {}
      },
      "source": [
        "super_string = 'moaj supear string z gwiazdka *'\n",
        "super_string_bez = 'moj supr string z gwazdka *'"
      ],
      "execution_count": null,
      "outputs": []
    },
    {
      "cell_type": "code",
      "metadata": {
        "id": "1wuz9X7jaDGd",
        "colab_type": "code",
        "colab": {},
        "outputId": "9ed31c18-349e-4674-d97d-e2e104a59f61"
      },
      "source": [
        "print(re.findall(r'[a,e,i,o,u][a,e,i,o,u]', super_string))\n",
        "print(re.findall(r'[a,e,i,o,u][a,e,i,o,u]', super_string_bez))"
      ],
      "execution_count": null,
      "outputs": [
        {
          "output_type": "stream",
          "text": [
            "['oa', 'ea', 'ia']\n",
            "[]\n"
          ],
          "name": "stdout"
        }
      ]
    },
    {
      "cell_type": "code",
      "metadata": {
        "id": "ZQvIl0JyaDGg",
        "colab_type": "code",
        "colab": {},
        "outputId": "18cfd209-1cfa-43ce-e5fe-d2a02e030508"
      },
      "source": [
        "print(re.findall(r'[a,e,i,o,u]{2}', super_string))\n",
        "print(re.findall(r'[a,e,i,o,u]{2}', super_string_bez))"
      ],
      "execution_count": null,
      "outputs": [
        {
          "output_type": "stream",
          "text": [
            "['oa', 'ea', 'ia']\n",
            "[]\n"
          ],
          "name": "stdout"
        }
      ]
    },
    {
      "cell_type": "markdown",
      "metadata": {
        "id": "oz8JNlJMaDGi",
        "colab_type": "text"
      },
      "source": [
        "10. Napisz zapytanie wyszukujące, czy w stringu znajduje się przynajmniej 6 cyfr"
      ]
    },
    {
      "cell_type": "code",
      "metadata": {
        "id": "qe11s2yyaDGi",
        "colab_type": "code",
        "colab": {}
      },
      "source": [
        "dlugi_string = '* 345445 ja'\n",
        "krotki_string = '12 ja 45 on 66 ty'"
      ],
      "execution_count": null,
      "outputs": []
    },
    {
      "cell_type": "code",
      "metadata": {
        "id": "G4nxqLf2aDGj",
        "colab_type": "code",
        "colab": {},
        "outputId": "5c34bcc1-312e-4b34-826b-a95448fd7e99"
      },
      "source": [
        "cyfry = re.findall(r'\\d+', krotki_string)\n",
        "print(cyfry)"
      ],
      "execution_count": null,
      "outputs": [
        {
          "output_type": "stream",
          "text": [
            "['12', '45', '66']\n"
          ],
          "name": "stdout"
        }
      ]
    },
    {
      "cell_type": "code",
      "metadata": {
        "id": "QMf0P71AaDGm",
        "colab_type": "code",
        "colab": {},
        "outputId": "c6292a05-2377-445d-fd40-593ee896cb23"
      },
      "source": [
        "sum([len(x) for x in cyfry])"
      ],
      "execution_count": null,
      "outputs": [
        {
          "output_type": "execute_result",
          "data": {
            "text/plain": [
              "6"
            ]
          },
          "metadata": {
            "tags": []
          },
          "execution_count": 69
        }
      ]
    },
    {
      "cell_type": "code",
      "metadata": {
        "id": "L_BhDwtfaDGn",
        "colab_type": "code",
        "colab": {},
        "outputId": "5239f336-fb3d-4303-c609-bbc2b116b85a"
      },
      "source": [
        "print(re.search(r'\\d{6,}', dlugi_string))\n",
        "print(re.search(r'\\d{6,}', krotki_string))"
      ],
      "execution_count": null,
      "outputs": [
        {
          "output_type": "stream",
          "text": [
            "<re.Match object; span=(2, 8), match='345445'>\n",
            "None\n"
          ],
          "name": "stdout"
        }
      ]
    },
    {
      "cell_type": "code",
      "metadata": {
        "id": "xZ_ZaW7NaDGp",
        "colab_type": "code",
        "colab": {},
        "outputId": "33675b4d-7fc8-422e-ce6c-8fd5849a98bd"
      },
      "source": [
        "print(re.search(r'\\d{,4}', dlugi_string))\n",
        "print(re.search(r'\\d{,4}', krotki_string))"
      ],
      "execution_count": null,
      "outputs": [
        {
          "output_type": "stream",
          "text": [
            "<re.Match object; span=(0, 0), match=''>\n",
            "<re.Match object; span=(0, 2), match='12'>\n"
          ],
          "name": "stdout"
        }
      ]
    },
    {
      "cell_type": "markdown",
      "metadata": {
        "id": "6TiwIiNdaDGr",
        "colab_type": "text"
      },
      "source": [
        "11. Napisz pętlę określającą, czy w stringu znajduje się słowo 'obiad'"
      ]
    },
    {
      "cell_type": "code",
      "metadata": {
        "id": "u_pc980iaDGs",
        "colab_type": "code",
        "colab": {}
      },
      "source": [
        "moja_obiadowa_lista = [\n",
        "    'ale super obiad',# True\n",
        "    'tu nie maobiadu', #False\n",
        "    'chce do domu', #False\n",
        "    'zima idzie', #False\n",
        "    'bedzie obiad?',# True\n",
        "    'obiad     '# True\n",
        "]"
      ],
      "execution_count": null,
      "outputs": []
    },
    {
      "cell_type": "code",
      "metadata": {
        "id": "P2TfsEdFaDGt",
        "colab_type": "code",
        "colab": {},
        "outputId": "81ced9d8-3357-4bdb-e810-d9356198ad9c"
      },
      "source": [
        "for zdanie in moja_obiadowa_lista:\n",
        "    print(re.search(r'(^obiad)|(\\bobiad\\b)', zdanie))"
      ],
      "execution_count": null,
      "outputs": [
        {
          "output_type": "stream",
          "text": [
            "<re.Match object; span=(10, 15), match='obiad'>\n",
            "None\n",
            "None\n",
            "None\n",
            "<re.Match object; span=(7, 12), match='obiad'>\n",
            "<re.Match object; span=(0, 5), match='obiad'>\n"
          ],
          "name": "stdout"
        }
      ]
    }
  ]
}