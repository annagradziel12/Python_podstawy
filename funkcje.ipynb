{
  "nbformat": 4,
  "nbformat_minor": 0,
  "metadata": {
    "colab": {
      "name": "funkcje.ipynb",
      "provenance": [],
      "collapsed_sections": [],
      "authorship_tag": "ABX9TyO9kgcjI80XuaH8e186/3Nc",
      "include_colab_link": true
    },
    "kernelspec": {
      "name": "python3",
      "display_name": "Python 3"
    }
  },
  "cells": [
    {
      "cell_type": "markdown",
      "metadata": {
        "id": "view-in-github",
        "colab_type": "text"
      },
      "source": [
        "<a href=\"https://colab.research.google.com/github/annagradziel12/Python_podstawy/blob/master/funkcje.ipynb\" target=\"_parent\"><img src=\"https://colab.research.google.com/assets/colab-badge.svg\" alt=\"Open In Colab\"/></a>"
      ]
    },
    {
      "cell_type": "code",
      "metadata": {
        "id": "zgxAj4K7bG7Y",
        "colab_type": "code",
        "colab": {
          "base_uri": "https://localhost:8080/",
          "height": 217
        },
        "outputId": "5184dce5-f1ec-4104-f495-db24a902181b"
      },
      "source": [
        "\n",
        "\n",
        "# Stwórz funkcje tworząca poniższy schemat poniższy schemat:\n",
        "# 1\n",
        "# 2 2\n",
        "# 3 3 3\n",
        "# 4 4 4 4\n",
        "# 5 5 5 5 5\n",
        "\n",
        "for num in range(1,6) :\n",
        "    for i in range(num) :\n",
        "        print (num, end=\" \")\n",
        "    print(\"\\n\")\n",
        "\n",
        "\n",
        "# kalkulator\n",
        "def calc(a, b, operacja):\n",
        "\tif (type(a) == int or type(a) == float) and (type(b) == int or type(b) == float):\n",
        "\t\tif operacja =='m':\n",
        "\t\t\treturn a*b\n",
        "\t\telif operacja == 'dz':\n",
        "\t\t\tif b != 0:\n",
        "\t\t\t\treturn a/b\n",
        "\t\t\telse:\n",
        "\t\t\t\tprint('nie dziel przez zero!')\n",
        "\t\telif operacja == 'do':\n",
        "\t\t\treturn a+b\n",
        "\t\telif operacja == 'od':\n",
        "\t\t\treturn a-b\n",
        "\t\telse:\n",
        "\t\t\tprint('nieznana operacja!')\n",
        "\telse:\n",
        "\t\tprint('podano zly typ danych')\n",
        "\t\n",
        "\n",
        "#Stwórz funkcję liczącą ile cyfr jest w podanej liczbie\n",
        "def numDigits(n) :\n",
        "    n_str = str(n)\n",
        "    return len(n_str)\n",
        "\n",
        "# stwórz funkcję przyjmującą string, której wynikiem jest połączenie tego napisu ze swoim odbiciem lustrzanym np 'pies'->'piesseip'\n",
        "\n",
        "def mirror(mystr) :\n",
        "    return mystr + mystr[: :-1]\n",
        "\n",
        "\n",
        "# napisz funkcję, która będzie przyjmowała napis, a zwracała jego elementy w odwrotnej kolejności\n",
        "# np \"pies je kiełbase'-> 'kiełbase je pies'\n",
        "\n",
        "def reverseWord(w) :\n",
        "    return ' '.join(w.split()[: :-1])\n",
        "\t\n",
        "\n",
        "# Napisz funkcję usuwającą znaki specjalne\n",
        "punctuations = '''!()-[]{};:'\"\\,<>./?@#$%^&*_~'''\n",
        "my_str = \"Napis, (ze znakami !) specjalnymi ? %$\"\n",
        "\n",
        "def remove_special_char(my_str) :\n",
        "    no_punct = \"\"\n",
        "    for char in my_str :\n",
        "        if char not in punctuations :\n",
        "            no_punct = no_punct + char\n",
        "    return no_punct\n",
        "\n",
        "\n",
        "# Napisz funkcje, ktorej zadaniem będzie dodanie dwóch macierzy\n",
        "# X = [[12, 7, 3],\n",
        "#      [4, 5, 6],\n",
        "#      [7, 8, 9]]\n",
        "# Y = [[5, 8, 1],\n",
        "#      [6, 7, 3],\n",
        "#      [4, 5, 9]]\n",
        "#\n",
        "# = > [17, 15, 4]\n",
        "# [10, 12, 9]\n",
        "# [11, 13, 18]\n",
        "\n",
        "X = [[12, 7, 3],\n",
        "     [4, 5, 6],\n",
        "     [7, 8, 9]]\n",
        "Y = [[5, 8, 1],\n",
        "     [6, 7, 3],\n",
        "     [4, 5, 9]]\n",
        "result = [[0, 0, 0],\n",
        "          [0, 0, 0],\n",
        "          [0, 0, 0]]\n",
        "# lecimy po wierszach\n",
        "for i in range(len(X)) :\n",
        "    # lecimy po kolumnach\n",
        "    for j in range(len(X[0])) :\n",
        "        result[i][j] = X[i][j] + Y[i][j]\n",
        "\n",
        "# Napisz funkcje do transpozycji macierzy:#\n",
        "# X = [[12, 7],\n",
        "#      [4, 5],\n",
        "#      [3, 8]]\n",
        "# = > [12, 4, 3]\n",
        "# [7, 5, 8]\n",
        "\n",
        "X = [[12, 7],\n",
        "     [4, 5],\n",
        "     [3, 8]]\n",
        "result = [[0, 0, 0],\n",
        "          [0, 0, 0]]\n",
        "# lecimy po wierszach\n",
        "for i in range(len(X)) :\n",
        "    # lecimy po kolumnach\n",
        "    for j in range(len(X[0])) :\n",
        "        result[j][i] = X[i][j]\n",
        "for r in result :\n",
        "    print(r)"
      ],
      "execution_count": null,
      "outputs": [
        {
          "output_type": "stream",
          "text": [
            "1 \n",
            "\n",
            "2 2 \n",
            "\n",
            "3 3 3 \n",
            "\n",
            "4 4 4 4 \n",
            "\n",
            "5 5 5 5 5 \n",
            "\n",
            "[12, 4, 3]\n",
            "[7, 5, 8]\n"
          ],
          "name": "stdout"
        }
      ]
    },
    {
      "cell_type": "markdown",
      "metadata": {
        "id": "PEz2iZKTbSmD",
        "colab_type": "text"
      },
      "source": [
        "Stwórz zmienne: imie(str), nazwisko(str), ilosc zwierząt domowych(int).\n",
        " Następnie utwórz z nich napis: \"nazywam się IMIE NAZWISKO i mam ILOSC zwierząt domowych.\n",
        " Zamień wszystkie litery na wielkie oraz wybierz elementy od 2 do 10 napisu."
      ]
    },
    {
      "cell_type": "code",
      "metadata": {
        "id": "Un2cNEH7bQHF",
        "colab_type": "code",
        "colab": {
          "base_uri": "https://localhost:8080/",
          "height": 35
        },
        "outputId": "f3520eea-855d-48cd-b8e8-5313e5ca3039"
      },
      "source": [
        "imie = 'jan'\n",
        "nazwisko = 'Kowalski'\n",
        "ilosc_zwierzat = 5\n",
        "string = f'nazywam się {imie} {nazwisko} i mam {ilosc_zwierzat} zwierząt domowych'\n",
        "string.upper()[2 :11]\n",
        "\n"
      ],
      "execution_count": null,
      "outputs": [
        {
          "output_type": "execute_result",
          "data": {
            "application/vnd.google.colaboratory.intrinsic+json": {
              "type": "string"
            },
            "text/plain": [
              "'ZYWAM SIĘ'"
            ]
          },
          "metadata": {
            "tags": []
          },
          "execution_count": 8
        }
      ]
    },
    {
      "cell_type": "markdown",
      "metadata": {
        "id": "CJ3Cg32bbZ-P",
        "colab_type": "text"
      },
      "source": [
        "Stwórz listę liczb od 1 do 20. Wybierz z niej elementy parzyste, jednak nie bierz 10 pod uwagę.\n",
        "Nie wypisuj liczb większych niż 13.\n"
      ]
    },
    {
      "cell_type": "code",
      "metadata": {
        "id": "9rKg6uoJbdFH",
        "colab_type": "code",
        "colab": {
          "base_uri": "https://localhost:8080/",
          "height": 100
        },
        "outputId": "252b6c49-1ab3-4f7d-9a21-cf3c807220f4"
      },
      "source": [
        "lista = range(1, 20)\n",
        "for x in lista :\n",
        "    if x != 10 and x<13 and x% 2 == 0 :\n",
        "        print(x)"
      ],
      "execution_count": null,
      "outputs": [
        {
          "output_type": "stream",
          "text": [
            "2\n",
            "4\n",
            "6\n",
            "8\n",
            "12\n"
          ],
          "name": "stdout"
        }
      ]
    },
    {
      "cell_type": "markdown",
      "metadata": {
        "id": "6Ozh3VsUblkc",
        "colab_type": "text"
      },
      "source": [
        "\n",
        "dla poniższych list stwórz listę krotek, której pierwszy element stanowi iloraz wysokości przez liczbę pięter,\n",
        "drugi element to sama nazwa kraju z listy 'miejca', a trzeci element to nazwa budynku:\n"
      ]
    },
    {
      "cell_type": "code",
      "metadata": {
        "id": "M5FEWm7_bqkv",
        "colab_type": "code",
        "colab": {}
      },
      "source": [
        "wysokosci = [829, 632, 601, 599.3, 554.5]\n",
        "liczba_pieter = [163, 128, 120, 115, 123]\n",
        "miejsca = ['Dubaj, Zjednoczone Emiraty Arabskie', 'Szanghaj, Chiny', 'Mekka, Arabia Saudyjska', 'Shenzhen, Chiny',\n",
        "           'Seul, Korea Południowa']\n",
        "nazwy = ['Burj Khalifa', 'Shanghai Tower', 'Abradż al-Bajt', 'Ping An Finance Centern', 'Lotte World Tower']"
      ],
      "execution_count": null,
      "outputs": []
    },
    {
      "cell_type": "code",
      "metadata": {
        "id": "gmLO9O-QbwBc",
        "colab_type": "code",
        "colab": {}
      },
      "source": [
        "lista = []\n",
        "for wys, lp, miejsce, nazwa in zip(wysokosci, liczba_pieter, miejsca, nazwy) :\n",
        "    wys_pietra = wys / lp\n",
        "    kraj = miejsce.split(', ')[1]\n",
        "    lista.append((wys_pietra, kraj, nazwa))"
      ],
      "execution_count": null,
      "outputs": []
    },
    {
      "cell_type": "markdown",
      "metadata": {
        "id": "fu_TQGbQb1rw",
        "colab_type": "text"
      },
      "source": [
        "\n",
        "Napisz funkcje przyjmującą dwa argumenty typu int. Jeśli ich iloczyn jest większy od 1000, zwróć ich sume.\n"
      ]
    },
    {
      "cell_type": "code",
      "metadata": {
        "id": "GfZSY5tbb4DQ",
        "colab_type": "code",
        "colab": {}
      },
      "source": [
        "def multiplication_or_sum(num1, num2) :\n",
        "    product = num1 * num2\n",
        "    if (product < 1000) :\n",
        "        return product\n",
        "    else :\n",
        "        return num1 + num2"
      ],
      "execution_count": null,
      "outputs": []
    },
    {
      "cell_type": "markdown",
      "metadata": {
        "id": "7HCU2dyrb-Dg",
        "colab_type": "text"
      },
      "source": [
        "napisz funkcję przyjmującą string z wielkimi i małymi literami, zwróć nowy string,\n",
        " będzie zawierał najpierw małe potem wielkie litery pierwszego napisu\n",
        "\n"
      ]
    },
    {
      "cell_type": "code",
      "metadata": {
        "id": "ZatojRU1cCRe",
        "colab_type": "code",
        "colab": {}
      },
      "source": [
        "inputStr = \"DoM jESt\"\n",
        "words = inputStr.split()\n",
        "lower = []\n",
        "upper = []\n",
        "for char in inputStr :\n",
        "    if char.islower() :\n",
        "        lower.append(char)\n",
        "    if char.isupper() :\n",
        "        upper.append(char)\n",
        "sortedString = ''.join(lower + upper)"
      ],
      "execution_count": null,
      "outputs": []
    },
    {
      "cell_type": "markdown",
      "metadata": {
        "id": "AKRwkPvQcRzp",
        "colab_type": "text"
      },
      "source": [
        "Napisz funkcje, zamieniającą literę a w napisie na \"X\".\n"
      ]
    },
    {
      "cell_type": "code",
      "metadata": {
        "id": "Nve4FcphcUaz",
        "colab_type": "code",
        "colab": {
          "base_uri": "https://localhost:8080/",
          "height": 35
        },
        "outputId": "fa047ced-0cd1-4a6e-a92d-3fbb80422c54"
      },
      "source": [
        "napis = 'Ala'\n",
        "napis.replace(\"a\", \"X\")"
      ],
      "execution_count": null,
      "outputs": [
        {
          "output_type": "execute_result",
          "data": {
            "application/vnd.google.colaboratory.intrinsic+json": {
              "type": "string"
            },
            "text/plain": [
              "'AlX'"
            ]
          },
          "metadata": {
            "tags": []
          },
          "execution_count": 14
        }
      ]
    },
    {
      "cell_type": "markdown",
      "metadata": {
        "id": "lX8isCtCchCW",
        "colab_type": "text"
      },
      "source": [
        "\n",
        "\n",
        "Napisz funkcje, zamieniającą pierwszą literę a w napisie na \"X\"."
      ]
    },
    {
      "cell_type": "code",
      "metadata": {
        "id": "d9W0miTncU5U",
        "colab_type": "code",
        "colab": {}
      },
      "source": [
        "napis = 'papuga'\n",
        "napis = napis.lower()\n",
        "first_a = napis.index(\"a\")\n",
        "new = napis[:first_a] + 'X' + napis[first_a + 1 :]"
      ],
      "execution_count": null,
      "outputs": []
    },
    {
      "cell_type": "markdown",
      "metadata": {
        "id": "lrDmw0CQcrdN",
        "colab_type": "text"
      },
      "source": [
        "Stwórz funkcję przyjmującą string. Policz ile znajduje się w nim liter, znaków specjalnych oraz cyfr"
      ]
    },
    {
      "cell_type": "code",
      "metadata": {
        "id": "WaseZ78nco4-",
        "colab_type": "code",
        "colab": {
          "base_uri": "https://localhost:8080/",
          "height": 33
        },
        "outputId": "f50dad8b-dd63-4698-bcc0-72555a450a2b"
      },
      "source": [
        "input_str = \"5 znakow !@#$^ i 12 liter\"\n",
        "\n",
        "def fun1(inputString) :\n",
        "    words = inputString.split()\n",
        "    charCount = 0\n",
        "    digitCount = 0\n",
        "    symbolCount = 0\n",
        "    for char in inputString :\n",
        "      if char == '':\n",
        "        continue\n",
        "        \n",
        "      elif char.isalpha() :\n",
        "        charCount += 1\n",
        "      elif char.isdigit() :\n",
        "        digitCount += 1\n",
        "      else :\n",
        "        symbolCount += 1\n",
        "    return charCount, digitCount, symbolCount\n",
        "\n",
        "fun1(input_str)"
      ],
      "execution_count": null,
      "outputs": [
        {
          "output_type": "execute_result",
          "data": {
            "text/plain": [
              "(12, 3, 10)"
            ]
          },
          "metadata": {
            "tags": []
          },
          "execution_count": 16
        }
      ]
    },
    {
      "cell_type": "markdown",
      "metadata": {
        "id": "NloWLJbLefwZ",
        "colab_type": "text"
      },
      "source": [
        "napisz funkcje przyjmującą string. Policz, ile razy znajduje się słowo \"usa\", niezależnie od wielości liter\n"
      ]
    },
    {
      "cell_type": "code",
      "metadata": {
        "id": "Pbc7pxa5efVJ",
        "colab_type": "code",
        "colab": {
          "base_uri": "https://localhost:8080/",
          "height": 33
        },
        "outputId": "739a4c1c-9a2a-41ab-b5ff-612742bb9b83"
      },
      "source": [
        "string = \"Usa, wreszcie usa\"\n",
        "new_string = string.lower()\n",
        "print(new_string.count('usa'))"
      ],
      "execution_count": null,
      "outputs": [
        {
          "output_type": "stream",
          "text": [
            "2\n"
          ],
          "name": "stdout"
        }
      ]
    },
    {
      "cell_type": "markdown",
      "metadata": {
        "id": "IhHu4zrHenL1",
        "colab_type": "text"
      },
      "source": [
        "Stwórz funkcję przyjmującą zakres liczb od 1 do 10, która dla każdego elementu listy będzie wyświetlała sumę elementu\n",
        "i poprzednich elementów\n",
        "\n"
      ]
    },
    {
      "cell_type": "code",
      "metadata": {
        "id": "EORJv7sYeqnq",
        "colab_type": "code",
        "colab": {
          "base_uri": "https://localhost:8080/",
          "height": 128
        },
        "outputId": "0794ffcf-ae52-42e5-b22c-c390b577de26"
      },
      "source": [
        "def sumNum():\n",
        "  suma = 0\n",
        "  for num in range(1,11) :\n",
        "    suma += num\n",
        "\t  print('suma dla liczby {}: {}'.format(num, suma))"
      ],
      "execution_count": null,
      "outputs": [
        {
          "output_type": "error",
          "ename": "TabError",
          "evalue": "ignored",
          "traceback": [
            "\u001b[0;36m  File \u001b[0;32m\"<ipython-input-19-810b9141373f>\"\u001b[0;36m, line \u001b[0;32m5\u001b[0m\n\u001b[0;31m    print('suma dla liczby {}: {}'.format(num, suma))\u001b[0m\n\u001b[0m                                                     ^\u001b[0m\n\u001b[0;31mTabError\u001b[0m\u001b[0;31m:\u001b[0m inconsistent use of tabs and spaces in indentation\n"
          ]
        }
      ]
    },
    {
      "cell_type": "code",
      "metadata": {
        "id": "jGhdwzI7e0cP",
        "colab_type": "code",
        "colab": {}
      },
      "source": [
        "sumNum()"
      ],
      "execution_count": null,
      "outputs": []
    }
  ]
}