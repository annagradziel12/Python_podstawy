{
  "nbformat": 4,
  "nbformat_minor": 0,
  "metadata": {
    "kernelspec": {
      "display_name": "Python 3",
      "language": "python",
      "name": "python3"
    },
    "language_info": {
      "codemirror_mode": {
        "name": "ipython",
        "version": 3
      },
      "file_extension": ".py",
      "mimetype": "text/x-python",
      "name": "python",
      "nbconvert_exporter": "python",
      "pygments_lexer": "ipython3",
      "version": "3.7.3"
    },
    "toc": {
      "base_numbering": 1,
      "nav_menu": {},
      "number_sections": true,
      "sideBar": true,
      "skip_h1_title": false,
      "title_cell": "Table of Contents",
      "title_sidebar": "Contents",
      "toc_cell": false,
      "toc_position": {},
      "toc_section_display": true,
      "toc_window_display": false
    },
    "colab": {
      "name": "data_loading.ipynb",
      "provenance": [],
      "toc_visible": true
    }
  },
  "cells": [
    {
      "cell_type": "markdown",
      "metadata": {
        "id": "iQxh8dsY69XX",
        "colab_type": "text"
      },
      "source": [
        "# WCZYTYWANIE ZAWARTOŚCI PLIKÓW"
      ]
    },
    {
      "cell_type": "markdown",
      "metadata": {
        "id": "pnOuJVa269XY",
        "colab_type": "text"
      },
      "source": [
        "## PLIKI TXT"
      ]
    },
    {
      "cell_type": "code",
      "metadata": {
        "id": "fVzDL7Jv69XY",
        "colab_type": "code",
        "colab": {}
      },
      "source": [
        "f = open(\"my_file.txt\", \"w\")\n",
        "for i in range(10):\n",
        "    f.write(\"This is line {}\\n\".format(i))\n",
        "f.close()"
      ],
      "execution_count": 1,
      "outputs": []
    },
    {
      "cell_type": "code",
      "metadata": {
        "id": "-59ciG3j69Xb",
        "colab_type": "code",
        "colab": {
          "base_uri": "https://localhost:8080/",
          "height": 33
        },
        "outputId": "626f816c-adab-4c03-a33b-f30d87d77db1"
      },
      "source": [
        "f= open(\"my_file.txt\", \"r\")\n",
        "contents= f.read()\n",
        "print(type(contents))\n",
        "f.close()"
      ],
      "execution_count": 2,
      "outputs": [
        {
          "output_type": "stream",
          "text": [
            "<class 'str'>\n"
          ],
          "name": "stdout"
        }
      ]
    },
    {
      "cell_type": "code",
      "metadata": {
        "id": "z2NHCU3s69Xe",
        "colab_type": "code",
        "colab": {}
      },
      "source": [
        "f= open(\"my_file.txt\",\"w\")\n",
        "for i in range(10):\n",
        "     f.writelines(\"This is line {}\\n\".format(i))\n",
        "f.close()"
      ],
      "execution_count": 3,
      "outputs": []
    },
    {
      "cell_type": "code",
      "metadata": {
        "id": "CGmlznwa69Xg",
        "colab_type": "code",
        "colab": {
          "base_uri": "https://localhost:8080/",
          "height": 53
        },
        "outputId": "29625402-9161-4d16-ba60-95ce066b8d93"
      },
      "source": [
        "f= open(\"my_file.txt\", \"r\")\n",
        "contents = f.readlines()\n",
        "print(contents)\n",
        "f.close()"
      ],
      "execution_count": 4,
      "outputs": [
        {
          "output_type": "stream",
          "text": [
            "['This is line 0\\n', 'This is line 1\\n', 'This is line 2\\n', 'This is line 3\\n', 'This is line 4\\n', 'This is line 5\\n', 'This is line 6\\n', 'This is line 7\\n', 'This is line 8\\n', 'This is line 9\\n']\n"
          ],
          "name": "stdout"
        }
      ]
    },
    {
      "cell_type": "markdown",
      "metadata": {
        "id": "JFQgIl4pRBl3",
        "colab_type": "text"
      },
      "source": [
        "Otwarty w programie plik może powodować problemy. Inne aplikacje próbujące go odczytać nie będą mogły tego zrobić.\n",
        "\n",
        " Dlatego też wprowadzono alternatywną metodę obsługi plików, która nie wymaga dodatkowego zamykania pliku.\n",
        "\n",
        "Alternatywna metoda wymaga wykorzystania struktury with:"
      ]
    },
    {
      "cell_type": "code",
      "metadata": {
        "id": "NWX76lqq69Xi",
        "colab_type": "code",
        "colab": {
          "base_uri": "https://localhost:8080/",
          "height": 33
        },
        "outputId": "5020d2f1-84c2-4ed4-c01b-f766e60b1084"
      },
      "source": [
        "with open('my_file.txt', 'r') as my_file:\n",
        "     contents = my_file.read()\n",
        "f.closed"
      ],
      "execution_count": 5,
      "outputs": [
        {
          "output_type": "execute_result",
          "data": {
            "text/plain": [
              "True"
            ]
          },
          "metadata": {
            "tags": []
          },
          "execution_count": 5
        }
      ]
    },
    {
      "cell_type": "code",
      "metadata": {
        "id": "E4gh1bh069Xk",
        "colab_type": "code",
        "colab": {},
        "outputId": "bb7f9f4a-9ba3-4915-a7ba-2247131ffd8a"
      },
      "source": [
        "with open('my_file.txt', 'w') as f:\n",
        "     f.write('moj string')\n",
        "f.closed"
      ],
      "execution_count": null,
      "outputs": [
        {
          "output_type": "execute_result",
          "data": {
            "text/plain": [
              "True"
            ]
          },
          "metadata": {
            "tags": []
          },
          "execution_count": 11
        }
      ]
    },
    {
      "cell_type": "code",
      "metadata": {
        "id": "EsDrMHdU69Xm",
        "colab_type": "code",
        "colab": {}
      },
      "source": [
        "with open('my_file.txt', 'a') as f:\n",
        "     f.write('moj string')"
      ],
      "execution_count": null,
      "outputs": []
    },
    {
      "cell_type": "markdown",
      "metadata": {
        "id": "JIm8Jsw-69Xp",
        "colab_type": "text"
      },
      "source": [
        "<img src='python files.bmp' width = '600'>"
      ]
    },
    {
      "cell_type": "markdown",
      "metadata": {
        "id": "9UySu4Qd69Xp",
        "colab_type": "text"
      },
      "source": [
        "1. Oblicz ile razy występuje każde imie w pliku 'names.txt' oraz wyświetl na ekranie"
      ]
    },
    {
      "cell_type": "code",
      "metadata": {
        "id": "I6APdOjC69Xq",
        "colab_type": "code",
        "colab": {
          "base_uri": "https://localhost:8080/",
          "height": 33
        },
        "outputId": "2d3240ba-57a4-4e8c-8fc3-e8cf40ff163d"
      },
      "source": [
        "counter_dict = {}\n",
        "with open('names.txt') as f:\n",
        "    line = f.readline()\n",
        "    while line:\n",
        "        line = line.strip()  # strip usuwa białe znakiz początku i końca każdego napisu\n",
        "        if line in counter_dict:\n",
        "            counter_dict[line] += 1\n",
        "        else:\n",
        "            counter_dict[line] = 1\n",
        "        line = f.readline()\n",
        "\n",
        "print(counter_dict)"
      ],
      "execution_count": 13,
      "outputs": [
        {
          "output_type": "stream",
          "text": [
            "{'Darth': 31, 'Luke': 15, 'Lea': 54}\n"
          ],
          "name": "stdout"
        }
      ]
    },
    {
      "cell_type": "markdown",
      "metadata": {
        "id": "hNON0i1H69Xr",
        "colab_type": "text"
      },
      "source": [
        "2. Znajdź liczby występujące zarówno w pliku numbers_1.txt jak i w pliku numbers_2.txt"
      ]
    },
    {
      "cell_type": "code",
      "metadata": {
        "id": "wCl8pCkz69Xs",
        "colab_type": "code",
        "colab": {
          "base_uri": "https://localhost:8080/",
          "height": 53
        },
        "outputId": "7c46efaf-90d4-485b-9267-2899414f0bdc"
      },
      "source": [
        "def file_to_list(filename):\n",
        "    list_to_return = []\n",
        "    with open(filename) as f:\n",
        "        line = f.readline()\n",
        "        while line:\n",
        "            list_to_return.append(int(line))\n",
        "            line = f.readline()\n",
        "    return list_to_return\n",
        "\n",
        "numbers_1 = file_to_list('numbers_1.txt')\n",
        "numbers_2 = file_to_list('numbers_2.txt')\n",
        "\n",
        "common_numbers = [elem for elem in numbers_1 if elem in numbers_2]  #List comprehensions\n",
        "print(common_numbers)"
      ],
      "execution_count": 14,
      "outputs": [
        {
          "output_type": "stream",
          "text": [
            "[7, 13, 19, 23, 31, 79, 97, 103, 109, 139, 167, 193, 239, 263, 293, 313, 331, 367, 379, 383, 397, 409, 487, 563, 617, 653, 673, 683, 709, 739, 761, 863, 881, 907, 937]\n"
          ],
          "name": "stdout"
        }
      ]
    },
    {
      "cell_type": "markdown",
      "metadata": {
        "id": "H_VqXVK769Xt",
        "colab_type": "text"
      },
      "source": [
        "## ENCODE DECODE, CZYLI PROBLEMY Z JĘZYKIEM POLSKIM"
      ]
    },
    {
      "cell_type": "code",
      "metadata": {
        "id": "luXAyJMC69Xu",
        "colab_type": "code",
        "colab": {},
        "outputId": "057a4463-c4cb-4e85-9ee5-06f5ed0e39cc"
      },
      "source": [
        "with open('polski.txt') as f:\n",
        "    line = f.read()\n",
        "    print(line)"
      ],
      "execution_count": null,
      "outputs": [
        {
          "output_type": "stream",
          "text": [
            "ŒledŸ ¿aden w¹t³y nie jest.\n"
          ],
          "name": "stdout"
        }
      ]
    },
    {
      "cell_type": "code",
      "metadata": {
        "id": "TcYZl69d69Xw",
        "colab_type": "code",
        "colab": {
          "base_uri": "https://localhost:8080/",
          "height": 312
        },
        "outputId": "22b6fde1-879f-45e4-b7ec-226fc8e546e4"
      },
      "source": [
        "with open('polski.txt', encoding='utf8') as f:\n",
        "    line = f.read()\n",
        "    print(line)"
      ],
      "execution_count": 15,
      "outputs": [
        {
          "output_type": "error",
          "ename": "UnicodeDecodeError",
          "evalue": "ignored",
          "traceback": [
            "\u001b[0;31m---------------------------------------------------------------------------\u001b[0m",
            "\u001b[0;31mUnicodeDecodeError\u001b[0m                        Traceback (most recent call last)",
            "\u001b[0;32m<ipython-input-15-00221fd53a4d>\u001b[0m in \u001b[0;36m<module>\u001b[0;34m()\u001b[0m\n\u001b[1;32m      1\u001b[0m \u001b[0;32mwith\u001b[0m \u001b[0mopen\u001b[0m\u001b[0;34m(\u001b[0m\u001b[0;34m'polski.txt'\u001b[0m\u001b[0;34m,\u001b[0m \u001b[0mencoding\u001b[0m\u001b[0;34m=\u001b[0m\u001b[0;34m'utf8'\u001b[0m\u001b[0;34m)\u001b[0m \u001b[0;32mas\u001b[0m \u001b[0mf\u001b[0m\u001b[0;34m:\u001b[0m\u001b[0;34m\u001b[0m\u001b[0;34m\u001b[0m\u001b[0m\n\u001b[0;32m----> 2\u001b[0;31m     \u001b[0mline\u001b[0m \u001b[0;34m=\u001b[0m \u001b[0mf\u001b[0m\u001b[0;34m.\u001b[0m\u001b[0mread\u001b[0m\u001b[0;34m(\u001b[0m\u001b[0;34m)\u001b[0m\u001b[0;34m\u001b[0m\u001b[0;34m\u001b[0m\u001b[0m\n\u001b[0m\u001b[1;32m      3\u001b[0m     \u001b[0mprint\u001b[0m\u001b[0;34m(\u001b[0m\u001b[0mline\u001b[0m\u001b[0;34m)\u001b[0m\u001b[0;34m\u001b[0m\u001b[0;34m\u001b[0m\u001b[0m\n",
            "\u001b[0;32m/usr/lib/python3.6/codecs.py\u001b[0m in \u001b[0;36mdecode\u001b[0;34m(self, input, final)\u001b[0m\n\u001b[1;32m    319\u001b[0m         \u001b[0;31m# decode input (taking the buffer into account)\u001b[0m\u001b[0;34m\u001b[0m\u001b[0;34m\u001b[0m\u001b[0;34m\u001b[0m\u001b[0m\n\u001b[1;32m    320\u001b[0m         \u001b[0mdata\u001b[0m \u001b[0;34m=\u001b[0m \u001b[0mself\u001b[0m\u001b[0;34m.\u001b[0m\u001b[0mbuffer\u001b[0m \u001b[0;34m+\u001b[0m \u001b[0minput\u001b[0m\u001b[0;34m\u001b[0m\u001b[0;34m\u001b[0m\u001b[0m\n\u001b[0;32m--> 321\u001b[0;31m         \u001b[0;34m(\u001b[0m\u001b[0mresult\u001b[0m\u001b[0;34m,\u001b[0m \u001b[0mconsumed\u001b[0m\u001b[0;34m)\u001b[0m \u001b[0;34m=\u001b[0m \u001b[0mself\u001b[0m\u001b[0;34m.\u001b[0m\u001b[0m_buffer_decode\u001b[0m\u001b[0;34m(\u001b[0m\u001b[0mdata\u001b[0m\u001b[0;34m,\u001b[0m \u001b[0mself\u001b[0m\u001b[0;34m.\u001b[0m\u001b[0merrors\u001b[0m\u001b[0;34m,\u001b[0m \u001b[0mfinal\u001b[0m\u001b[0;34m)\u001b[0m\u001b[0;34m\u001b[0m\u001b[0;34m\u001b[0m\u001b[0m\n\u001b[0m\u001b[1;32m    322\u001b[0m         \u001b[0;31m# keep undecoded input until the next call\u001b[0m\u001b[0;34m\u001b[0m\u001b[0;34m\u001b[0m\u001b[0;34m\u001b[0m\u001b[0m\n\u001b[1;32m    323\u001b[0m         \u001b[0mself\u001b[0m\u001b[0;34m.\u001b[0m\u001b[0mbuffer\u001b[0m \u001b[0;34m=\u001b[0m \u001b[0mdata\u001b[0m\u001b[0;34m[\u001b[0m\u001b[0mconsumed\u001b[0m\u001b[0;34m:\u001b[0m\u001b[0;34m]\u001b[0m\u001b[0;34m\u001b[0m\u001b[0;34m\u001b[0m\u001b[0m\n",
            "\u001b[0;31mUnicodeDecodeError\u001b[0m: 'utf-8' codec can't decode byte 0x8c in position 0: invalid start byte"
          ]
        }
      ]
    },
    {
      "cell_type": "code",
      "metadata": {
        "id": "WdSNzup269Xy",
        "colab_type": "code",
        "colab": {},
        "outputId": "dbcbac5d-5008-4c4d-d5dd-783f4e51b9c1"
      },
      "source": [
        "with open('polski.txt', encoding='windows-1250') as f:\n",
        "    line = f.read()\n",
        "    print(line)"
      ],
      "execution_count": null,
      "outputs": [
        {
          "output_type": "stream",
          "text": [
            "Śledź żaden wątły nie jest.\n"
          ],
          "name": "stdout"
        }
      ]
    },
    {
      "cell_type": "code",
      "metadata": {
        "id": "Ux6Tpwa_69X0",
        "colab_type": "code",
        "colab": {},
        "outputId": "61f947d8-6ce2-43d4-b4b2-4b10a51ca7c8"
      },
      "source": [
        "with open('polski.txt', encoding=\"ascii\") as f:\n",
        "    line = f.read()\n",
        "    print(line)"
      ],
      "execution_count": null,
      "outputs": [
        {
          "output_type": "error",
          "ename": "UnicodeDecodeError",
          "evalue": "'ascii' codec can't decode byte 0x8c in position 0: ordinal not in range(128)",
          "traceback": [
            "\u001b[1;31m---------------------------------------------------------------------------\u001b[0m",
            "\u001b[1;31mUnicodeDecodeError\u001b[0m                        Traceback (most recent call last)",
            "\u001b[1;32m<ipython-input-16-3981a173647f>\u001b[0m in \u001b[0;36m<module>\u001b[1;34m\u001b[0m\n\u001b[0;32m      1\u001b[0m \u001b[1;32mwith\u001b[0m \u001b[0mopen\u001b[0m\u001b[1;33m(\u001b[0m\u001b[1;34m'polski.txt'\u001b[0m\u001b[1;33m,\u001b[0m \u001b[0mencoding\u001b[0m\u001b[1;33m=\u001b[0m\u001b[1;34m\"ascii\"\u001b[0m\u001b[1;33m)\u001b[0m \u001b[1;32mas\u001b[0m \u001b[0mf\u001b[0m\u001b[1;33m:\u001b[0m\u001b[1;33m\u001b[0m\u001b[1;33m\u001b[0m\u001b[0m\n\u001b[1;32m----> 2\u001b[1;33m     \u001b[0mline\u001b[0m \u001b[1;33m=\u001b[0m \u001b[0mf\u001b[0m\u001b[1;33m.\u001b[0m\u001b[0mread\u001b[0m\u001b[1;33m(\u001b[0m\u001b[1;33m)\u001b[0m\u001b[1;33m\u001b[0m\u001b[1;33m\u001b[0m\u001b[0m\n\u001b[0m\u001b[0;32m      3\u001b[0m     \u001b[0mprint\u001b[0m\u001b[1;33m(\u001b[0m\u001b[0mline\u001b[0m\u001b[1;33m)\u001b[0m\u001b[1;33m\u001b[0m\u001b[1;33m\u001b[0m\u001b[0m\n",
            "\u001b[1;32m~\\Anaconda\\lib\\encodings\\ascii.py\u001b[0m in \u001b[0;36mdecode\u001b[1;34m(self, input, final)\u001b[0m\n\u001b[0;32m     24\u001b[0m \u001b[1;32mclass\u001b[0m \u001b[0mIncrementalDecoder\u001b[0m\u001b[1;33m(\u001b[0m\u001b[0mcodecs\u001b[0m\u001b[1;33m.\u001b[0m\u001b[0mIncrementalDecoder\u001b[0m\u001b[1;33m)\u001b[0m\u001b[1;33m:\u001b[0m\u001b[1;33m\u001b[0m\u001b[1;33m\u001b[0m\u001b[0m\n\u001b[0;32m     25\u001b[0m     \u001b[1;32mdef\u001b[0m \u001b[0mdecode\u001b[0m\u001b[1;33m(\u001b[0m\u001b[0mself\u001b[0m\u001b[1;33m,\u001b[0m \u001b[0minput\u001b[0m\u001b[1;33m,\u001b[0m \u001b[0mfinal\u001b[0m\u001b[1;33m=\u001b[0m\u001b[1;32mFalse\u001b[0m\u001b[1;33m)\u001b[0m\u001b[1;33m:\u001b[0m\u001b[1;33m\u001b[0m\u001b[1;33m\u001b[0m\u001b[0m\n\u001b[1;32m---> 26\u001b[1;33m         \u001b[1;32mreturn\u001b[0m \u001b[0mcodecs\u001b[0m\u001b[1;33m.\u001b[0m\u001b[0mascii_decode\u001b[0m\u001b[1;33m(\u001b[0m\u001b[0minput\u001b[0m\u001b[1;33m,\u001b[0m \u001b[0mself\u001b[0m\u001b[1;33m.\u001b[0m\u001b[0merrors\u001b[0m\u001b[1;33m)\u001b[0m\u001b[1;33m[\u001b[0m\u001b[1;36m0\u001b[0m\u001b[1;33m]\u001b[0m\u001b[1;33m\u001b[0m\u001b[1;33m\u001b[0m\u001b[0m\n\u001b[0m\u001b[0;32m     27\u001b[0m \u001b[1;33m\u001b[0m\u001b[0m\n\u001b[0;32m     28\u001b[0m \u001b[1;32mclass\u001b[0m \u001b[0mStreamWriter\u001b[0m\u001b[1;33m(\u001b[0m\u001b[0mCodec\u001b[0m\u001b[1;33m,\u001b[0m\u001b[0mcodecs\u001b[0m\u001b[1;33m.\u001b[0m\u001b[0mStreamWriter\u001b[0m\u001b[1;33m)\u001b[0m\u001b[1;33m:\u001b[0m\u001b[1;33m\u001b[0m\u001b[1;33m\u001b[0m\u001b[0m\n",
            "\u001b[1;31mUnicodeDecodeError\u001b[0m: 'ascii' codec can't decode byte 0x8c in position 0: ordinal not in range(128)"
          ]
        }
      ]
    },
    {
      "cell_type": "code",
      "metadata": {
        "id": "VCVCHzse69X2",
        "colab_type": "code",
        "colab": {},
        "outputId": "6f0816fa-3a90-4b68-9655-f72fbd5015dd"
      },
      "source": [
        "with open('polski.txt', 'w', encoding=\"windows-1250\") as f:\n",
        "    f.write('Śledź żaden wątły nie jest.')\n",
        "with open('polski.txt', 'r', encoding=\"windows-1250\") as f:\n",
        "    line = f.read()\n",
        "print(line)"
      ],
      "execution_count": null,
      "outputs": [
        {
          "output_type": "stream",
          "text": [
            "Śledź żaden wątły nie jest.\n"
          ],
          "name": "stdout"
        }
      ]
    },
    {
      "cell_type": "markdown",
      "metadata": {
        "id": "WsTNMb-p69X4",
        "colab_type": "text"
      },
      "source": [
        "## PLIKI JSON"
      ]
    },
    {
      "cell_type": "markdown",
      "metadata": {
        "id": "PDDLTdE_69X4",
        "colab_type": "text"
      },
      "source": [
        "https://developer.twitter.com/en/docs/tweets/data-dictionary/overview/intro-to-tweet-json"
      ]
    },
    {
      "cell_type": "code",
      "metadata": {
        "id": "OVnq5i5569X5",
        "colab_type": "code",
        "colab": {}
      },
      "source": [
        "import json\n",
        "json_string = json.dumps([1, 'simple', 'list'])\n"
      ],
      "execution_count": null,
      "outputs": []
    },
    {
      "cell_type": "code",
      "metadata": {
        "id": "d0DfdMme69X6",
        "colab_type": "code",
        "colab": {},
        "outputId": "e6a3ba65-c75e-4346-85e7-3db74110391d"
      },
      "source": [
        "json_string = json.loads(json_string)\n",
        "print(type(json_string))\n",
        "json_string"
      ],
      "execution_count": null,
      "outputs": [
        {
          "output_type": "stream",
          "text": [
            "<class 'dict'>\n"
          ],
          "name": "stdout"
        },
        {
          "output_type": "execute_result",
          "data": {
            "text/plain": [
              "{'klucz1': 1, 'klucz2': 2}"
            ]
          },
          "metadata": {
            "tags": []
          },
          "execution_count": 50
        }
      ]
    },
    {
      "cell_type": "code",
      "metadata": {
        "id": "D8NtA6zG69X8",
        "colab_type": "code",
        "colab": {}
      },
      "source": [
        "with open('my_file_json.json', 'w') as f:\n",
        "    json.dump([1, 'simple', 'list'], f)"
      ],
      "execution_count": null,
      "outputs": []
    },
    {
      "cell_type": "code",
      "metadata": {
        "id": "8gO6P3bf69X-",
        "colab_type": "code",
        "colab": {},
        "outputId": "57902f26-20cc-4844-a99e-a2a8ca2140eb"
      },
      "source": [
        "with open('my_file_json.json', 'r') as f:\n",
        "    x = json.load(f)\n",
        "x"
      ],
      "execution_count": null,
      "outputs": [
        {
          "output_type": "execute_result",
          "data": {
            "text/plain": [
              "[1, 'simple', 'list']"
            ]
          },
          "metadata": {
            "tags": []
          },
          "execution_count": 30
        }
      ]
    },
    {
      "cell_type": "code",
      "metadata": {
        "id": "pjMcouV-69YA",
        "colab_type": "code",
        "colab": {}
      },
      "source": [
        "my_dict = {\n",
        "    \"firstName\": \"Jane\",\n",
        "    \"lastName\": \"Doe\",\n",
        "    \"hobbies\": [\"running\", \"sky diving\", \"singing\"],\n",
        "    \"age\": 35,\n",
        "    \"children\": [\n",
        "        {\n",
        "            \"firstName\": \"Alice\",\n",
        "            \"age\": 6\n",
        "        },\n",
        "        {\n",
        "            \"firstName\": \"Bob\",\n",
        "            \"age\": 8\n",
        "        }\n",
        "    ]\n",
        "}"
      ],
      "execution_count": null,
      "outputs": []
    },
    {
      "cell_type": "code",
      "metadata": {
        "code_folding": [],
        "id": "2UZGK9pb69YC",
        "colab_type": "code",
        "colab": {},
        "outputId": "c1c94537-ac31-4591-c9d7-3c53cdbc79d2"
      },
      "source": [
        "with open(\"my_file_json.json\", \"w\") as f:\n",
        "    json.dump(my_dict, f)\n",
        "    \n",
        "with open(\"my_file_json.json\", \"r\") as f:\n",
        "    my_dict = json.load(f)\n",
        "    \n",
        "my_dict['age'] == 35"
      ],
      "execution_count": null,
      "outputs": [
        {
          "output_type": "execute_result",
          "data": {
            "text/plain": [
              "True"
            ]
          },
          "metadata": {
            "tags": []
          },
          "execution_count": 32
        }
      ]
    },
    {
      "cell_type": "code",
      "metadata": {
        "id": "tcvd2o1a69YD",
        "colab_type": "code",
        "colab": {},
        "outputId": "b3372916-834b-4018-8550-5ca1d8670553"
      },
      "source": [
        "my_dict"
      ],
      "execution_count": null,
      "outputs": [
        {
          "output_type": "execute_result",
          "data": {
            "text/plain": [
              "{'firstName': 'Jane',\n",
              " 'lastName': 'Doe',\n",
              " 'hobbies': ['running', 'sky diving', 'singing'],\n",
              " 'age': 35,\n",
              " 'children': [{'firstName': 'Alice', 'age': 6},\n",
              "  {'firstName': 'Bob', 'age': 8}]}"
            ]
          },
          "metadata": {
            "tags": []
          },
          "execution_count": 33
        }
      ]
    },
    {
      "cell_type": "code",
      "metadata": {
        "id": "RBIUs8zE69YF",
        "colab_type": "code",
        "colab": {},
        "outputId": "eacdb7be-fa46-4776-a609-be5b63969f88"
      },
      "source": [
        "import pprint\n",
        "pprint.pprint(my_dict)"
      ],
      "execution_count": null,
      "outputs": [
        {
          "output_type": "stream",
          "text": [
            "{'age': 35,\n",
            " 'children': [{'age': 6, 'firstName': 'Alice'}, {'age': 8, 'firstName': 'Bob'}],\n",
            " 'firstName': 'Jane',\n",
            " 'hobbies': ['running', 'sky diving', 'singing'],\n",
            " 'lastName': 'Doe'}\n"
          ],
          "name": "stdout"
        }
      ]
    },
    {
      "cell_type": "code",
      "metadata": {
        "id": "KupKoxmn69YI",
        "colab_type": "code",
        "colab": {},
        "outputId": "e39f7491-dbe3-4e78-ab5d-62dcc4e59165"
      },
      "source": [
        "print(json.dumps(my_dict, indent=4, sort_keys=True))"
      ],
      "execution_count": null,
      "outputs": [
        {
          "output_type": "stream",
          "text": [
            "{\n",
            "    \"age\": 35,\n",
            "    \"children\": [\n",
            "        {\n",
            "            \"age\": 6,\n",
            "            \"firstName\": \"Alice\"\n",
            "        },\n",
            "        {\n",
            "            \"age\": 8,\n",
            "            \"firstName\": \"Bob\"\n",
            "        }\n",
            "    ],\n",
            "    \"firstName\": \"Jane\",\n",
            "    \"hobbies\": [\n",
            "        \"running\",\n",
            "        \"sky diving\",\n",
            "        \"singing\"\n",
            "    ],\n",
            "    \"lastName\": \"Doe\"\n",
            "}\n"
          ],
          "name": "stdout"
        }
      ]
    },
    {
      "cell_type": "markdown",
      "metadata": {
        "id": "cDe3mhCd69YK",
        "colab_type": "text"
      },
      "source": [
        "https://jsonformatter.curiousconcept.com/"
      ]
    },
    {
      "cell_type": "markdown",
      "metadata": {
        "id": "761P1xkK69YL",
        "colab_type": "text"
      },
      "source": [
        "3. Napisz program podający datę urodzin osób, których nazwiska znajdują się w pliku 'birthdays.json'. Program powinien pobierać nazwisko od użytkownika (można to zrobić funkcją 'input'). Zaprogramuj również możliwość podania imienia, które nie istnieje na liście oraz możliwość zakończenia programu przez użytkownika."
      ]
    },
    {
      "cell_type": "code",
      "metadata": {
        "id": "2KlGLuC269YL",
        "colab_type": "code",
        "colab": {},
        "outputId": "de169c73-60a6-4f39-9085-ef1bd814a472"
      },
      "source": [
        "name = input()"
      ],
      "execution_count": null,
      "outputs": [
        {
          "output_type": "stream",
          "text": [
            "Jan\n"
          ],
          "name": "stdout"
        }
      ]
    },
    {
      "cell_type": "code",
      "metadata": {
        "id": "C4dlSOTW69YN",
        "colab_type": "code",
        "colab": {},
        "outputId": "ac2f9a5f-cdeb-4f1e-f52b-142575364fa3"
      },
      "source": [
        "name"
      ],
      "execution_count": null,
      "outputs": [
        {
          "output_type": "execute_result",
          "data": {
            "text/plain": [
              "'Jan'"
            ]
          },
          "metadata": {
            "tags": []
          },
          "execution_count": 47
        }
      ]
    },
    {
      "cell_type": "code",
      "metadata": {
        "id": "uGvc6FMJ69YO",
        "colab_type": "code",
        "colab": {}
      },
      "source": [
        "name = ''\n",
        "with open(\"birthdays.json\", \"r\") as f:\n",
        "    birthdays = json.load(f)\n",
        "    for key in list(birthdays.keys()):\n",
        "        print(key)\n",
        "while name!='koniec':\n",
        "    print('Podaj imie i nazwisko osoby: ')\n",
        "    name = input()\n",
        "    if name in birthdays:\n",
        "        print(birthdays[name])\n",
        "    else:\n",
        "        print('Nie ma takiego imienia')"
      ],
      "execution_count": null,
      "outputs": []
    },
    {
      "cell_type": "markdown",
      "metadata": {
        "id": "5mt5jr1O69YQ",
        "colab_type": "text"
      },
      "source": [
        "4. Napisz program zliczający wiek wszystkich superbohaterów spisanych w pliku superhero.json."
      ]
    },
    {
      "cell_type": "code",
      "metadata": {
        "id": "Kl1k5NtI69YQ",
        "colab_type": "code",
        "colab": {}
      },
      "source": [
        "with open(\"superhero.json\", \"r\") as f:\n",
        "    heros = json.load(f)\n",
        "\n",
        "total_age=0\n",
        "for member in heros['members']:\n",
        "    total_age+=member['age']\n",
        "    \n",
        "total_age"
      ],
      "execution_count": null,
      "outputs": []
    },
    {
      "cell_type": "markdown",
      "metadata": {
        "id": "rDgpp-Lc69YS",
        "colab_type": "text"
      },
      "source": [
        "## PLIKI PICKLE"
      ]
    },
    {
      "cell_type": "code",
      "metadata": {
        "id": "-v4HFbHH69YS",
        "colab_type": "code",
        "colab": {}
      },
      "source": [
        "import pickle \n",
        "  \n",
        "my_dict = {\n",
        "    \"firstName\": \"Jane\",\n",
        "    \"lastName\": \"Doe\",\n",
        "    \"hobbies\": [\"running\", \"sky diving\", \"singing\"],\n",
        "    \"age\": 35,\n",
        "    \"children\": [\n",
        "        {\n",
        "            \"firstName\": \"Alice\",\n",
        "            \"age\": 6\n",
        "        },\n",
        "        {\n",
        "            \"firstName\": \"Bob\",\n",
        "            \"age\": 8\n",
        "        }\n",
        "    ]\n",
        "}\n",
        "with open('my_file_pickle.pickle', 'wb') as f:\n",
        "    pickle.dump(my_dict, f)"
      ],
      "execution_count": null,
      "outputs": []
    },
    {
      "cell_type": "code",
      "metadata": {
        "id": "RMfi0-Y869YU",
        "colab_type": "code",
        "colab": {},
        "outputId": "562588a6-aa61-48cf-d487-f620da25c83b"
      },
      "source": [
        "with open('my_file_pickle.pickle', 'rb') as f:\n",
        "    my_dict = pickle.load(f) \n",
        "my_dict"
      ],
      "execution_count": null,
      "outputs": [
        {
          "output_type": "execute_result",
          "data": {
            "text/plain": [
              "{'firstName': 'Jane',\n",
              " 'lastName': 'Doe',\n",
              " 'hobbies': ['running', 'sky diving', 'singing'],\n",
              " 'age': 35,\n",
              " 'children': [{'firstName': 'Alice', 'age': 6},\n",
              "  {'firstName': 'Bob', 'age': 8}]}"
            ]
          },
          "metadata": {
            "tags": []
          },
          "execution_count": 45
        }
      ]
    },
    {
      "cell_type": "markdown",
      "metadata": {
        "id": "VQA7SuEk69YW",
        "colab_type": "text"
      },
      "source": [
        "WARNING: https://docs.python.org/3/library/pickle.html"
      ]
    }
  ]
}