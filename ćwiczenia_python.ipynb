{
  "nbformat": 4,
  "nbformat_minor": 0,
  "metadata": {
    "kernelspec": {
      "display_name": "Python 3",
      "language": "python",
      "name": "python3"
    },
    "language_info": {
      "codemirror_mode": {
        "name": "ipython",
        "version": 3
      },
      "file_extension": ".py",
      "mimetype": "text/x-python",
      "name": "python",
      "nbconvert_exporter": "python",
      "pygments_lexer": "ipython3",
      "version": "3.7.3"
    },
    "toc": {
      "base_numbering": 1,
      "nav_menu": {},
      "number_sections": true,
      "sideBar": true,
      "skip_h1_title": false,
      "title_cell": "Table of Contents",
      "title_sidebar": "Contents",
      "toc_cell": false,
      "toc_position": {},
      "toc_section_display": true,
      "toc_window_display": false
    },
    "colab": {
      "name": "ćwiczenia_python.ipynb",
      "provenance": [],
      "include_colab_link": true
    }
  },
  "cells": [
    {
      "cell_type": "markdown",
      "metadata": {
        "id": "view-in-github",
        "colab_type": "text"
      },
      "source": [
        "<a href=\"https://colab.research.google.com/github/annagradziel12/Python_podstawy/blob/master/%C4%87wiczenia_python.ipynb\" target=\"_parent\"><img src=\"https://colab.research.google.com/assets/colab-badge.svg\" alt=\"Open In Colab\"/></a>"
      ]
    },
    {
      "cell_type": "markdown",
      "metadata": {
        "id": "ZW7zESZjlmXE",
        "colab_type": "text"
      },
      "source": [
        "# ZADANIA UTRWALAJĄCE WIEDZĘ"
      ]
    },
    {
      "cell_type": "markdown",
      "metadata": {
        "id": "ZDtUWtNYlmXF",
        "colab_type": "text"
      },
      "source": [
        "1. Przetwórz plik timelog.txt na poniższą formę (odpowiednią ilość spacji można pominąć):"
      ]
    },
    {
      "cell_type": "code",
      "metadata": {
        "id": "XgULjcatlmXF",
        "colab_type": "code",
        "colab": {},
        "outputId": "690dc043-0b41-4e92-fede-b6c21ecf0d7b"
      },
      "source": [
        "\"\"\"\n",
        "09:20-11:00 Introduction\n",
        "11:00-11:15 Exercises\n",
        "11:15-11:35 Break\n",
        "11:35-12:30 Numbers and strings\n",
        "12:30-13:30 Lunch Break\n",
        "13:30-14:10 Exercises\n",
        "14:10-14:30 Solutions\n",
        "14:30-14:40 Break\n",
        "14:40-15:40 Lists\n",
        "15:40-17:00 Exercises\n",
        "17:00-17:30 Solutions\n",
        "\n",
        "09:30-10:30 Lists and Tuples\n",
        "10:30-10:50 Break\n",
        "10:50-12:00 Exercises\n",
        "12:00-12:30 Solutions\n",
        "12:30-12:45 Dictionaries\n",
        "12:45-14:15 Lunch Break\n",
        "14:15-16:00 Exercises\n",
        "16:00-16:15 Solutions\n",
        "16:15-16:30 Break\n",
        "16:30-17:00 Functions\n",
        "17:00-17:30 Exercises\n",
        "\n",
        "Break                      65 minutes    6%\n",
        "Dictionaries               15 minutes    1%\n",
        "Exercises                 340 minutes   35%\n",
        "Functions                  30 minutes    3%\n",
        "Introduction              100 minutes   10%\n",
        "Lists                      60 minutes    6%\n",
        "Lists and Tuples           60 minutes    6%\n",
        "Lunch Break               150 minutes   15%\n",
        "Numbers and strings        55 minutes    5%\n",
        "Solutions                  95 minutes    9%\n",
        "\"\"\"\n",
        "print()"
      ],
      "execution_count": null,
      "outputs": [
        {
          "output_type": "stream",
          "text": [
            "\n"
          ],
          "name": "stdout"
        }
      ]
    },
    {
      "cell_type": "code",
      "metadata": {
        "id": "Rc23RF_9lmXI",
        "colab_type": "code",
        "colab": {},
        "outputId": "45bb069d-b410-48d1-ca68-debac221cd6e"
      },
      "source": [
        "import re\n",
        "from datetime import datetime\n",
        "ending_hours = []\n",
        "lines = []\n",
        "activities = []\n",
        "with open('timelog.txt', 'r') as f:\n",
        "    for line in f.readlines():\n",
        "        ending_hour = re.search(r'\\d\\d:\\d\\d', line)\n",
        "        if ending_hour:\n",
        "            lines.append(line)\n",
        "            ending_hours.append(ending_hour.group())\n",
        "            activities.append(\"\".join(re.findall(r'[^0-9:]', line)).strip())\n",
        "\n",
        "starting_hours = ending_hours[:-1]\n",
        "ending_hours = ending_hours[1:]\n",
        "\n",
        "new_lines = []\n",
        "for line, ending_hour in zip(lines, ending_hours):\n",
        "    if 'End' not in line:\n",
        "        new_lines.append(line[:5]+'-'+ending_hour+line[5:])\n",
        "    else:\n",
        "        new_lines.append('\\n') \n",
        "\n",
        "for line in new_lines:\n",
        "    print(line)"
      ],
      "execution_count": null,
      "outputs": [
        {
          "output_type": "stream",
          "text": [
            "09:20-11:00 Introduction\n",
            "\n",
            "11:00-11:15 Exercises\n",
            "\n",
            "11:15-11:35 Break\n",
            "\n",
            "11:35-12:30 Numbers and strings\n",
            "\n",
            "12:30-13:30 Lunch Break\n",
            "\n",
            "13:30-14:10 Exercises\n",
            "\n",
            "14:10-14:30 Solutions\n",
            "\n",
            "14:30-14:40 Break\n",
            "\n",
            "14:40-15:40 Lists\n",
            "\n",
            "15:40-17:00 Exercises\n",
            "\n",
            "17:00-17:30 Solutions\n",
            "\n",
            "\n",
            "\n",
            "09:30-10:30 Lists and Tuples\n",
            "\n",
            "10:30-10:50 Break\n",
            "\n",
            "10:50-12:00 Exercises\n",
            "\n",
            "12:00-12:30 Solutions\n",
            "\n",
            "12:30-12:45 Dictionaries\n",
            "\n",
            "12:45-14:15 Lunch Break\n",
            "\n",
            "14:15-16:00 Exercises\n",
            "\n",
            "16:00-16:15 Solutions\n",
            "\n",
            "16:15-16:30 Break\n",
            "\n",
            "16:30-17:00 Functions\n",
            "\n",
            "17:00-17:30 Exercises\n",
            "\n"
          ],
          "name": "stdout"
        }
      ]
    },
    {
      "cell_type": "code",
      "metadata": {
        "id": "egWjun2_lmXK",
        "colab_type": "code",
        "colab": {},
        "outputId": "7c6399f6-ee53-4bdf-8480-70058a79f85f"
      },
      "source": [
        "starting_hours = [datetime.strptime(x, '%H:%M') for x in starting_hours]\n",
        "ending_hours = [datetime.strptime(x, '%H:%M') for x in ending_hours]\n",
        "                 \n",
        "time_diff = [x-y for x,y in zip(ending_hours, starting_hours)]\n",
        "time_diff_minutes = [x.seconds/60 for x in time_diff]\n",
        "\n",
        "activity_time_dictionary = {}\n",
        "for key, value in zip(activities, time_diff_minutes):\n",
        "    if key not in activity_time_dictionary.keys():\n",
        "        activity_time_dictionary[key] = value\n",
        "    else: \n",
        "        activity_time_dictionary[key] += value\n",
        "\n",
        "del activity_time_dictionary['End']\n",
        "print(activity_time_dictionary)"
      ],
      "execution_count": null,
      "outputs": [
        {
          "output_type": "stream",
          "text": [
            "{'Introduction': 100.0, 'Exercises': 340.0, 'Break': 65.0, 'Numbers and strings': 55.0, 'Lunch Break': 150.0, 'Solutions': 95.0, 'Lists': 60.0, 'Lists and Tuples': 60.0, 'Dictionaries': 15.0, 'Functions': 30.0}\n"
          ],
          "name": "stdout"
        }
      ]
    },
    {
      "cell_type": "code",
      "metadata": {
        "id": "ObC5eM86lmXM",
        "colab_type": "code",
        "colab": {},
        "outputId": "1b712686-bceb-483a-c860-fd1d461ee863"
      },
      "source": [
        "from collections import OrderedDict\n",
        "activity_time_dictionary_ordered = OrderedDict(sorted(activity_time_dictionary.items(), key=lambda x: x[0]))\n",
        "print(activity_time_dictionary_ordered)"
      ],
      "execution_count": null,
      "outputs": [
        {
          "output_type": "stream",
          "text": [
            "OrderedDict([('Break', 65.0), ('Dictionaries', 15.0), ('Exercises', 340.0), ('Functions', 30.0), ('Introduction', 100.0), ('Lists', 60.0), ('Lists and Tuples', 60.0), ('Lunch Break', 150.0), ('Numbers and strings', 55.0), ('Solutions', 95.0)])\n"
          ],
          "name": "stdout"
        }
      ]
    },
    {
      "cell_type": "code",
      "metadata": {
        "id": "Ai_sfBOulmXO",
        "colab_type": "code",
        "colab": {},
        "outputId": "3c291f7c-0b99-4c1f-a980-a6c941e8d4bb"
      },
      "source": [
        "sum_of_all = sum(activity_time_dictionary_ordered.values())\n",
        "print(sum_of_all)"
      ],
      "execution_count": null,
      "outputs": [
        {
          "output_type": "stream",
          "text": [
            "970.0\n"
          ],
          "name": "stdout"
        }
      ]
    },
    {
      "cell_type": "code",
      "metadata": {
        "id": "h3aK9iBHlmXQ",
        "colab_type": "code",
        "colab": {},
        "outputId": "416d31a9-e188-4e6e-8058-a520325fc3a2"
      },
      "source": [
        "percents = [x/sum_of_all*100 for x in activity_time_dictionary_ordered.values()]\n",
        "percents = [round(x) for x in percents]\n",
        "print(percents)"
      ],
      "execution_count": null,
      "outputs": [
        {
          "output_type": "stream",
          "text": [
            "[7, 2, 35, 3, 10, 6, 6, 15, 6, 10]\n"
          ],
          "name": "stdout"
        }
      ]
    },
    {
      "cell_type": "code",
      "metadata": {
        "id": "BB2b9dqOlmXS",
        "colab_type": "code",
        "colab": {},
        "outputId": "194ad4d8-db77-4027-e56b-4a6f9381afef"
      },
      "source": [
        "new_lines_2 = []\n",
        "for key, value, percent in zip(activity_time_dictionary_ordered.keys(), \n",
        "                      activity_time_dictionary_ordered.values(), \n",
        "                      percents):\n",
        "    new_lines_2.append(key + '\\t' +str(int(value)) + ' minutes' + ' ' + str(percent)+'%'+'\\n')\n",
        "    \n",
        "for line in new_lines_2:\n",
        "    print(line)"
      ],
      "execution_count": null,
      "outputs": [
        {
          "output_type": "stream",
          "text": [
            "Break\t65 minutes 7%\n",
            "\n",
            "Dictionaries\t15 minutes 2%\n",
            "\n",
            "Exercises\t340 minutes 35%\n",
            "\n",
            "Functions\t30 minutes 3%\n",
            "\n",
            "Introduction\t100 minutes 10%\n",
            "\n",
            "Lists\t60 minutes 6%\n",
            "\n",
            "Lists and Tuples\t60 minutes 6%\n",
            "\n",
            "Lunch Break\t150 minutes 15%\n",
            "\n",
            "Numbers and strings\t55 minutes 6%\n",
            "\n",
            "Solutions\t95 minutes 10%\n",
            "\n"
          ],
          "name": "stdout"
        }
      ]
    },
    {
      "cell_type": "code",
      "metadata": {
        "id": "63h3ftgTlmXU",
        "colab_type": "code",
        "colab": {},
        "outputId": "77661603-8978-4070-8153-db3a078a45ad"
      },
      "source": [
        "new_lines.append('\\n')\n",
        "new_lines.append(new_lines_2)\n",
        "print(new_lines)"
      ],
      "execution_count": null,
      "outputs": [
        {
          "output_type": "stream",
          "text": [
            "['09:20-11:00 Introduction\\n', '11:00-11:15 Exercises\\n', '11:15-11:35 Break\\n', '11:35-12:30 Numbers and strings\\n', '12:30-13:30 Lunch Break\\n', '13:30-14:10 Exercises\\n', '14:10-14:30 Solutions\\n', '14:30-14:40 Break\\n', '14:40-15:40 Lists\\n', '15:40-17:00 Exercises\\n', '17:00-17:30 Solutions\\n', '\\n', '09:30-10:30 Lists and Tuples\\n', '10:30-10:50 Break\\n', '10:50-12:00 Exercises\\n', '12:00-12:30 Solutions\\n', '12:30-12:45 Dictionaries\\n', '12:45-14:15 Lunch Break\\n', '14:15-16:00 Exercises\\n', '16:00-16:15 Solutions\\n', '16:15-16:30 Break\\n', '16:30-17:00 Functions\\n', '17:00-17:30 Exercises\\n', '\\n', ['Break\\t65 minutes 7%\\n', 'Dictionaries\\t15 minutes 2%\\n', 'Exercises\\t340 minutes 35%\\n', 'Functions\\t30 minutes 3%\\n', 'Introduction\\t100 minutes 10%\\n', 'Lists\\t60 minutes 6%\\n', 'Lists and Tuples\\t60 minutes 6%\\n', 'Lunch Break\\t150 minutes 15%\\n', 'Numbers and strings\\t55 minutes 6%\\n', 'Solutions\\t95 minutes 10%\\n']]\n"
          ],
          "name": "stdout"
        }
      ]
    },
    {
      "cell_type": "code",
      "metadata": {
        "id": "NkGAu8Y0lmXW",
        "colab_type": "code",
        "colab": {}
      },
      "source": [
        "with open('new_timelog.txt', 'w') as f:\n",
        "    for line in new_lines:\n",
        "        f.writelines(line)"
      ],
      "execution_count": null,
      "outputs": []
    },
    {
      "cell_type": "markdown",
      "metadata": {
        "id": "ZjAx4VnKlmXY",
        "colab_type": "text"
      },
      "source": [
        "--------------------------------"
      ]
    },
    {
      "cell_type": "markdown",
      "metadata": {
        "id": "rT6WflUMlmXY",
        "colab_type": "text"
      },
      "source": [
        "2. Wczytaj plik 'personal_dataset.txt', jego zawartość przetwórz na słownik i zapisz do pliku o formacie json. Możesz wykorzystać pomocniczy zbiór imion i stanowisk. Zamknij kod w funkcje."
      ]
    },
    {
      "cell_type": "code",
      "metadata": {
        "id": "eSpNeqijlmXZ",
        "colab_type": "code",
        "colab": {}
      },
      "source": [
        "job_list = ['Dentist', 'Operator', 'IT Support Staff','Staffing Consultant','Clerk',\n",
        "            'Healthcare Specialist','HR Coordinator','Auditor',\n",
        "            'Global Logistics Supervisor','Baker','Cashier']"
      ],
      "execution_count": null,
      "outputs": []
    },
    {
      "cell_type": "code",
      "metadata": {
        "id": "ynfr1GQ8lmXa",
        "colab_type": "code",
        "colab": {}
      },
      "source": [
        "names = ['Barney','Lindsay','Lana','Daniel','Caydence','Leslie','Eileen','Chuck','Tyler','Maxwell','Wade',\n",
        "         'Oliver','Tara','Alan','Ryan']"
      ],
      "execution_count": null,
      "outputs": []
    },
    {
      "cell_type": "code",
      "metadata": {
        "id": "_-tAyzIclmXc",
        "colab_type": "code",
        "colab": {}
      },
      "source": [
        "import re\n",
        "import json\n",
        "job_list = [x.replace(' ', '') for x in job_list]\n",
        "counter_id = 0\n",
        "dictionaries = {}\n",
        "\n",
        "with open('personal_dataset.txt', 'r') as f:\n",
        "    for line in f.readlines():\n",
        "        counter_id +=1\n",
        "        telephone = re.findall(r'\\d-\\d{3}-\\d{3}-\\d{4}', line)\n",
        "        date = re.search(r'((\\d\\d)|(\\d))/((\\d\\d)|(\\d))/\\d\\d\\d\\d', line).group()\n",
        "        mail = re.search(r'([A-Z][a-z]+_\\w+\\d+@\\w+.\\.)(org|com|biz|tech)', line).group()\n",
        "        while mail[0].isdigit():\n",
        "            mail = mail[1:]\n",
        "        surname = mail.split('_')[1].split(\"@\")[0]\n",
        "        name = mail.split('_')[0]\n",
        "        surname = ''.join(x for x in surname if not x.isdigit())\n",
        "        for job in job_list:\n",
        "            if re.search(job, line):\n",
        "                position = job\n",
        "                break\n",
        "        \n",
        "        dictionary = {\n",
        "            'name':name,\n",
        "            'surname':surname,\n",
        "            'mail':mail,\n",
        "            'date': date,\n",
        "            'telephone': telephone,\n",
        "            'position':position\n",
        "        }\n",
        "        dictionaries[counter_id] = dictionary\n",
        "        \n",
        "\n",
        "with open(\"personal_dataset_2.json\", \"w\") as f:\n",
        "    json.dump(dictionaries, f)"
      ],
      "execution_count": null,
      "outputs": []
    },
    {
      "cell_type": "code",
      "metadata": {
        "id": "d6HC8RIklmXe",
        "colab_type": "code",
        "colab": {},
        "outputId": "0805256d-98b3-46aa-f785-35d71160c211"
      },
      "source": [
        "with open('personal_dataset_2.json', 'r') as f:\n",
        "    x = json.load(f)\n",
        "x"
      ],
      "execution_count": null,
      "outputs": [
        {
          "output_type": "execute_result",
          "data": {
            "text/plain": [
              "{'1': {'name': 'Barney',\n",
              "  'surname': 'Hunt',\n",
              "  'mail': 'Barney_Hunt6412@naiker.biz',\n",
              "  'date': '19/8/2084',\n",
              "  'telephone': ['6-318-316-4803'],\n",
              "  'position': 'Dentist'},\n",
              " '2': {'name': 'Lindsay',\n",
              "  'surname': 'Rowlands',\n",
              "  'mail': 'Lindsay_Rowlands3150@ubusive.com',\n",
              "  'date': '9/30/3088',\n",
              "  'telephone': ['7-766-854-6640'],\n",
              "  'position': 'Operator'},\n",
              " '3': {'name': 'Lana',\n",
              "  'surname': 'Cartwright',\n",
              "  'mail': 'Lana_Cartwright5310@tonsy.org',\n",
              "  'date': '2/22/0243',\n",
              "  'telephone': ['1-152-212-2482'],\n",
              "  'position': 'ITSupportStaff'},\n",
              " '4': {'name': 'Daniel',\n",
              "  'surname': 'Wellington',\n",
              "  'mail': 'Daniel_Wellington3835@twipet.com',\n",
              "  'date': '3/15/4356',\n",
              "  'telephone': ['2-527-341-7124'],\n",
              "  'position': 'StaffingConsultant'},\n",
              " '5': {'name': 'Caydence',\n",
              "  'surname': 'Gosling',\n",
              "  'mail': 'Caydence_Gosling1235@kideod.biz',\n",
              "  'date': '12/15/7282',\n",
              "  'telephone': ['2-570-842-1858'],\n",
              "  'position': 'Clerk'},\n",
              " '6': {'name': 'Leslie',\n",
              "  'surname': 'Cadman',\n",
              "  'mail': 'Leslie_Cadman3008@kideod.biz',\n",
              "  'date': '7/5/8411',\n",
              "  'telephone': ['2-573-820-2762'],\n",
              "  'position': 'StaffingConsultant'},\n",
              " '7': {'name': 'Eileen',\n",
              "  'surname': 'Ward',\n",
              "  'mail': 'Eileen_Ward5399@nickia.com',\n",
              "  'date': '6/21/4241',\n",
              "  'telephone': ['2-657-070-7076'],\n",
              "  'position': 'HealthcareSpecialist'},\n",
              " '8': {'name': 'Chuck',\n",
              "  'surname': 'Chadwick',\n",
              "  'mail': 'Chuck_Chadwick9560@sheye.org',\n",
              "  'date': '12/1/0500',\n",
              "  'telephone': ['0-765-186-6636'],\n",
              "  'position': 'HRCoordinator'},\n",
              " '9': {'name': 'Tyler',\n",
              "  'surname': 'Preston',\n",
              "  'mail': 'Tyler_Preston2357@corti.com',\n",
              "  'date': '2/27/8407',\n",
              "  'telephone': ['7-747-388-5835'],\n",
              "  'position': 'Auditor'},\n",
              " '10': {'name': 'Maxwell',\n",
              "  'surname': 'Tyler',\n",
              "  'mail': 'Maxwell_Tyler9131@jiman.org',\n",
              "  'date': '11/4/8663',\n",
              "  'telephone': ['2-488-880-6217'],\n",
              "  'position': 'GlobalLogisticsSupervisor'},\n",
              " '11': {'name': 'Wade',\n",
              "  'surname': 'Russell',\n",
              "  'mail': 'Wade_Russell1366@brety.org',\n",
              "  'date': '2/22/8299',\n",
              "  'telephone': ['7-004-170-2285'],\n",
              "  'position': 'ITSupportStaff'},\n",
              " '12': {'name': 'Oliver',\n",
              "  'surname': 'Jenkin',\n",
              "  'mail': 'Oliver_Jenkin5868@zorer.org',\n",
              "  'date': '12/20/3928',\n",
              "  'telephone': ['5-174-286-6408'],\n",
              "  'position': 'Baker'},\n",
              " '13': {'name': 'Tara',\n",
              "  'surname': 'Shields',\n",
              "  'mail': 'Tara_Shields8693@corti.com',\n",
              "  'date': '6/29/8323',\n",
              "  'telephone': ['0-224-056-4737'],\n",
              "  'position': 'HRCoordinator'},\n",
              " '14': {'name': 'Alan',\n",
              "  'surname': 'Faulkner',\n",
              "  'mail': 'Alan_Faulkner2459@yahoo.com',\n",
              "  'date': '7/16/8577',\n",
              "  'telephone': ['6-851-428-6350'],\n",
              "  'position': 'Cashier'},\n",
              " '15': {'name': 'Ryan',\n",
              "  'surname': 'Kelly',\n",
              "  'mail': 'Ryan_Kelly5993@infotech44.tech',\n",
              "  'date': '2/22/2247',\n",
              "  'telephone': ['5-504-514-5481'],\n",
              "  'position': 'ITSupportStaff'}}"
            ]
          },
          "metadata": {
            "tags": []
          },
          "execution_count": 13
        }
      ]
    },
    {
      "cell_type": "markdown",
      "metadata": {
        "id": "UFE8-Ab1lmXg",
        "colab_type": "text"
      },
      "source": [
        "3. Na podstawie pliku 'apache_access.log' policz ile było zapytań GET z adresu localhost (127.0.0.1) pomiędzy 10:40 a 10:55"
      ]
    },
    {
      "cell_type": "code",
      "metadata": {
        "id": "9SehdI2glmXg",
        "colab_type": "code",
        "colab": {},
        "outputId": "14d1c458-a0b2-4be4-b712-b1c6be4e7394"
      },
      "source": [
        "import datetime\n",
        "import pytz\n",
        "\n",
        "utc=pytz.UTC\n",
        "\n",
        "counter = 0\n",
        "# 10/Apr/2007\n",
        "start_date = datetime.datetime(2007, 4, 10, hour=7, minute=40).replace(tzinfo=utc)\n",
        "end_date = datetime.datetime(2007, 4, 10, hour=7, minute=55).replace(tzinfo=utc)\n",
        "\n",
        "with open('apache_access.log', 'r') as f:\n",
        "    for line in f.readlines():\n",
        "        if line.startswith(\"127.0.0.1 \"):\n",
        "            line_2 = line.split(' - - [')[1].split('] \"')\n",
        "            date = line_2[0]\n",
        "            date = datetime.datetime.strptime(date, '%d/%b/%Y:%H:%M:%S %z')\n",
        "            request = line_2[1]\n",
        "            if (date>start_date) & (date<end_date) & (request.startswith('GET')):\n",
        "                counter +=1\n",
        "                \n",
        "print(counter)"
      ],
      "execution_count": null,
      "outputs": [
        {
          "output_type": "stream",
          "text": [
            "5\n"
          ],
          "name": "stdout"
        }
      ]
    },
    {
      "cell_type": "markdown",
      "metadata": {
        "id": "cyCFbbdelmXi",
        "colab_type": "text"
      },
      "source": [
        "https://docs.python.org/3/library/datetime.html#strftime-and-strptime-format-codes"
      ]
    },
    {
      "cell_type": "markdown",
      "metadata": {
        "id": "y65lABLLlmXi",
        "colab_type": "text"
      },
      "source": [
        "4.  W pliku 'pytest.ini' znajduje się kilka sekcji, a każda sekcja zaczyna się od wyrażenia w nawiasach kwadratowych []. Wewnątrz każdej sekcji znajdują się pary klucz-wartość z opcjonalnymi spacjami koło znaku \"=\". Klucze mogą zawierać litery, numery, podkreślniki (tzw. podłoga \"_\") lub myślniki. Dodatkowo w pliku mogą znajdować się puste linie oraz linie komentarzy, rozpoczynające się od \"#\". Przekształć plik 'pytest.ini' do poniższej formy:"
      ]
    },
    {
      "cell_type": "markdown",
      "metadata": {
        "id": "95gX04mElmXi",
        "colab_type": "text"
      },
      "source": [
        "$VAR1 = {\n",
        "          'earth' => {\n",
        "                       'base' => 'London',\n",
        "                       'ship' => 'x-wing'\n",
        "                     },\n",
        "          'alpha' => {\n",
        "                       'base' => 'moon',\n",
        "                       'ship' => 'alpha 3'\n",
        "                     }\n",
        "        };\n",
        "        "
      ]
    },
    {
      "cell_type": "code",
      "metadata": {
        "id": "DvfJ7wm1lmXj",
        "colab_type": "code",
        "colab": {},
        "outputId": "fa3fdcf1-c200-46fa-de3c-0cc6d3af7841"
      },
      "source": [
        "new_dict = {}\n",
        "with open('pytest.ini', 'r') as f:\n",
        "    for line in f.readlines():\n",
        "        if line.startswith('['):\n",
        "            new_key = line.replace('[', '').replace(']', '').strip()\n",
        "        elif (line.strip()!='') & ('#' not in line):\n",
        "            print('line: ',line)\n",
        "            key_value = [x.strip() for x in line.split('=')]\n",
        "            if new_key in new_dict.keys():\n",
        "                new_dict[new_key].append({key_value[0]:key_value[1]})\n",
        "            else:\n",
        "                new_dict[new_key] = [{key_value[0]:key_value[1]}]\n",
        "        \n",
        "print(new_dict)"
      ],
      "execution_count": null,
      "outputs": [
        {
          "output_type": "stream",
          "text": [
            "line:  base  = moon\n",
            "\n",
            "line:  ship= alpha 3\n",
            "\n",
            "line:  base=London   \n",
            "\n",
            "line:  ship=  x-wing\n",
            "\n",
            "{'alpha': [{'base': 'moon'}, {'ship': 'alpha 3'}], 'earth': [{'base': 'London'}, {'ship': 'x-wing'}]}\n"
          ],
          "name": "stdout"
        }
      ]
    },
    {
      "cell_type": "code",
      "metadata": {
        "id": "aUxm0SyxlmXk",
        "colab_type": "code",
        "colab": {},
        "outputId": "ab34f488-a781-4df8-b939-d0e344338b49"
      },
      "source": [
        "new_dict_str = str(new_dict)\n",
        "new_dict_str"
      ],
      "execution_count": null,
      "outputs": [
        {
          "output_type": "execute_result",
          "data": {
            "text/plain": [
              "\"{'alpha': [{'base': 'moon'}, {'ship': 'alpha 3'}], 'earth': [{'base': 'London'}, {'ship': 'x-wing'}]}\""
            ]
          },
          "metadata": {
            "tags": []
          },
          "execution_count": 16
        }
      ]
    },
    {
      "cell_type": "code",
      "metadata": {
        "id": "1yQWoI87lmXm",
        "colab_type": "code",
        "colab": {},
        "outputId": "fba0210c-bd45-40a8-d62f-61faf1a10835"
      },
      "source": [
        "new_dict_str = '$VAR1 = ' + new_dict_str\n",
        "new_dict_str = new_dict_str.replace('}, {', ',').replace('[', '').replace(']', '').replace(':', \"=>\")\n",
        "new_dict_str"
      ],
      "execution_count": null,
      "outputs": [
        {
          "output_type": "execute_result",
          "data": {
            "text/plain": [
              "\"$VAR1 = {'alpha'=> {'base'=> 'moon','ship'=> 'alpha 3'}, 'earth'=> {'base'=> 'London','ship'=> 'x-wing'}}\""
            ]
          },
          "metadata": {
            "tags": []
          },
          "execution_count": 17
        }
      ]
    }
  ]
}