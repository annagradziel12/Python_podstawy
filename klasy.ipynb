{
  "nbformat": 4,
  "nbformat_minor": 0,
  "metadata": {
    "kernelspec": {
      "display_name": "Python 3",
      "language": "python",
      "name": "python3"
    },
    "language_info": {
      "codemirror_mode": {
        "name": "ipython",
        "version": 3
      },
      "file_extension": ".py",
      "mimetype": "text/x-python",
      "name": "python",
      "nbconvert_exporter": "python",
      "pygments_lexer": "ipython3",
      "version": "3.7.3"
    },
    "toc": {
      "base_numbering": 1,
      "nav_menu": {},
      "number_sections": true,
      "sideBar": true,
      "skip_h1_title": false,
      "title_cell": "Table of Contents",
      "title_sidebar": "Contents",
      "toc_cell": false,
      "toc_position": {},
      "toc_section_display": true,
      "toc_window_display": false
    },
    "colab": {
      "name": "klasy.ipynb",
      "provenance": [],
      "include_colab_link": true
    }
  },
  "cells": [
    {
      "cell_type": "markdown",
      "metadata": {
        "id": "view-in-github",
        "colab_type": "text"
      },
      "source": [
        "<a href=\"https://colab.research.google.com/github/annagradziel12/Python_podstawy/blob/master/klasy.ipynb\" target=\"_parent\"><img src=\"https://colab.research.google.com/assets/colab-badge.svg\" alt=\"Open In Colab\"/></a>"
      ]
    },
    {
      "cell_type": "markdown",
      "metadata": {
        "id": "DAlif3Jykojs",
        "colab_type": "text"
      },
      "source": [
        "# KLASY"
      ]
    },
    {
      "cell_type": "code",
      "metadata": {
        "id": "L9FN2ymjkojt",
        "colab_type": "code",
        "colab": {}
      },
      "source": [
        "class Dog():\n",
        "    def __init__(self):\n",
        "        self.name = 'Azor'\n",
        "        self.age = 5"
      ],
      "execution_count": null,
      "outputs": []
    },
    {
      "cell_type": "code",
      "metadata": {
        "id": "P4cBtEMMkojw",
        "colab_type": "code",
        "colab": {},
        "outputId": "ad47df73-1143-46dc-c12e-c3a6f48689b7"
      },
      "source": [
        "dog1 = Dog()\n",
        "\n",
        "print(dog1.name, dog1.age)"
      ],
      "execution_count": null,
      "outputs": [
        {
          "output_type": "stream",
          "text": [
            "Azor 5\n"
          ],
          "name": "stdout"
        }
      ]
    },
    {
      "cell_type": "code",
      "metadata": {
        "id": "cs4eRWjDkojy",
        "colab_type": "code",
        "colab": {}
      },
      "source": [
        "class Dog():\n",
        "    def __init__(self, name, age):\n",
        "        self.name = name\n",
        "        self.age = age"
      ],
      "execution_count": null,
      "outputs": []
    },
    {
      "cell_type": "code",
      "metadata": {
        "id": "-u_bOQyakoj0",
        "colab_type": "code",
        "colab": {},
        "outputId": "bebf2807-dca0-4804-956f-d09f8b13e19c"
      },
      "source": [
        "dog1 = Dog(\"Azor\", 6)\n",
        "\n",
        "print(dog1.name, dog1.age+1)"
      ],
      "execution_count": null,
      "outputs": [
        {
          "output_type": "stream",
          "text": [
            "Azor 7\n"
          ],
          "name": "stdout"
        }
      ]
    },
    {
      "cell_type": "code",
      "metadata": {
        "id": "Zw7ROxl8koj2",
        "colab_type": "code",
        "colab": {},
        "outputId": "834fc408-8ced-4f84-e677-df805a182cff"
      },
      "source": [
        "dog1.age"
      ],
      "execution_count": null,
      "outputs": [
        {
          "output_type": "execute_result",
          "data": {
            "text/plain": [
              "7"
            ]
          },
          "metadata": {
            "tags": []
          },
          "execution_count": 7
        }
      ]
    },
    {
      "cell_type": "code",
      "metadata": {
        "id": "YHvAH9Fmkoj4",
        "colab_type": "code",
        "colab": {}
      },
      "source": [
        "class Dog():\n",
        "    def __init__(self, name, age):\n",
        "        self.name = name\n",
        "        self.age = age\n",
        "        \n",
        "    def give_voice(self):\n",
        "        print(\"hau hau, my name is {}\".format(self.name))"
      ],
      "execution_count": null,
      "outputs": []
    },
    {
      "cell_type": "code",
      "metadata": {
        "id": "H0CZWURXkoj6",
        "colab_type": "code",
        "colab": {},
        "outputId": "5bf00de1-2191-46f7-c981-d9ebcb7ae376"
      },
      "source": [
        "dog1 = Dog(\"Azor\", 5)\n",
        "dog1.give_voice()"
      ],
      "execution_count": null,
      "outputs": [
        {
          "output_type": "stream",
          "text": [
            "hau hau, my name is Azor\n"
          ],
          "name": "stdout"
        }
      ]
    },
    {
      "cell_type": "code",
      "metadata": {
        "id": "Ju6_7ebhkoj9",
        "colab_type": "code",
        "colab": {},
        "outputId": "367c7d78-50d2-4fd3-f69d-42f3ee34733e"
      },
      "source": [
        "dog1.age = 4\n",
        "dog1.age"
      ],
      "execution_count": null,
      "outputs": [
        {
          "output_type": "execute_result",
          "data": {
            "text/plain": [
              "4"
            ]
          },
          "metadata": {
            "tags": []
          },
          "execution_count": 10
        }
      ]
    },
    {
      "cell_type": "code",
      "metadata": {
        "id": "OxwWQrC8koj_",
        "colab_type": "code",
        "colab": {},
        "outputId": "debf2ea7-94c0-47f8-e634-4efa22f55903"
      },
      "source": [
        "dog2 = Dog(\"Burek\", 6)\n",
        "print(dog2.name, dog2.age)"
      ],
      "execution_count": null,
      "outputs": [
        {
          "output_type": "stream",
          "text": [
            "Burek 6\n"
          ],
          "name": "stdout"
        }
      ]
    },
    {
      "cell_type": "code",
      "metadata": {
        "id": "tHnJzE-qkokA",
        "colab_type": "code",
        "colab": {},
        "outputId": "eb4582fc-bc5a-4636-ddcd-c262887699a6"
      },
      "source": [
        "class Dog():\n",
        "    def __init__(self, name, age, animal_type='dog'):\n",
        "        self.name = name\n",
        "        self.age = age\n",
        "        self.animal_type = animal_type\n",
        "        \n",
        "zmienna = 'moj napis'\n",
        "dog1 = Dog(\"Burek\", 6)\n",
        "print(dog1.name, dog1.age, dog1.animal_type)"
      ],
      "execution_count": null,
      "outputs": [
        {
          "output_type": "stream",
          "text": [
            "Burek 6 dog\n"
          ],
          "name": "stdout"
        }
      ]
    },
    {
      "cell_type": "code",
      "metadata": {
        "id": "jLpz_wljkokC",
        "colab_type": "code",
        "colab": {},
        "outputId": "d5fb4811-9f63-4cb8-a51b-cd5d4d367fa2"
      },
      "source": [
        "dog1 = Dog(\"Burek\", 6, 'cat')\n",
        "print(dog1.name, dog1.age, dog1.animal_type)"
      ],
      "execution_count": null,
      "outputs": [
        {
          "output_type": "stream",
          "text": [
            "Burek 6 cat\n"
          ],
          "name": "stdout"
        }
      ]
    },
    {
      "cell_type": "code",
      "metadata": {
        "id": "GENvhokEkokE",
        "colab_type": "code",
        "colab": {
          "base_uri": "https://localhost:8080/",
          "height": 33
        },
        "outputId": "b028e77d-6a54-405b-ac7b-93cd1f2136dc"
      },
      "source": [
        "class Dog():\n",
        "    animal_type='dog'\n",
        "    def __init__(self, name, age):\n",
        "        self.name = name\n",
        "        self.age = age\n",
        "        \n",
        "dog1 = Dog(\"Burek\", 6)\n",
        "print(dog1.name, dog1.age)"
      ],
      "execution_count": 2,
      "outputs": [
        {
          "output_type": "stream",
          "text": [
            "Burek 6\n"
          ],
          "name": "stdout"
        }
      ]
    },
    {
      "cell_type": "code",
      "metadata": {
        "id": "l_N7Z8RJkokG",
        "colab_type": "code",
        "colab": {},
        "outputId": "68f50c76-4e6f-421a-8950-b043cd7503b3"
      },
      "source": [
        "dog1.animal_type = 'cat'\n",
        "dog1.animal_type"
      ],
      "execution_count": null,
      "outputs": [
        {
          "output_type": "execute_result",
          "data": {
            "text/plain": [
              "'cat'"
            ]
          },
          "metadata": {
            "tags": []
          },
          "execution_count": 17
        }
      ]
    },
    {
      "cell_type": "code",
      "metadata": {
        "id": "lXDfizbxkokJ",
        "colab_type": "code",
        "colab": {},
        "outputId": "b8bb676a-4861-461b-caa8-ba60695ab36b"
      },
      "source": [
        ""
      ],
      "execution_count": null,
      "outputs": [
        {
          "output_type": "execute_result",
          "data": {
            "text/plain": [
              "<__main__.Dog at 0x253a33d7d30>"
            ]
          },
          "metadata": {
            "tags": []
          },
          "execution_count": 18
        }
      ]
    },
    {
      "cell_type": "code",
      "metadata": {
        "id": "JTC0lUxAkokK",
        "colab_type": "code",
        "colab": {}
      },
      "source": [
        "dog2 = Dog(\"Azor\", 5)\n",
        "print(dog1.name, dog1.age, dog1.animal_type)"
      ],
      "execution_count": null,
      "outputs": []
    },
    {
      "cell_type": "code",
      "metadata": {
        "id": "k4R5sTNukokM",
        "colab_type": "code",
        "colab": {}
      },
      "source": [
        "class Dog():\n",
        "    def __init__(self, name, age):\n",
        "        self.name = name\n",
        "        self.age = age\n",
        "        \n",
        "    def count_age(self, years):\n",
        "        self.age = years + self.age\n",
        "        print(\"jestem {}, mam {} lat i za {} lat bede mial {} lat\".format(self.name, self.age, years, new_age))"
      ],
      "execution_count": null,
      "outputs": []
    },
    {
      "cell_type": "code",
      "metadata": {
        "id": "fdQBuEZKkokO",
        "colab_type": "code",
        "colab": {},
        "outputId": "871d8f9a-17e7-4e54-9c94-95a0b9efc615"
      },
      "source": [
        "dog1 = Dog(\"Azor\", 5)\n",
        "dog1.count_age(5)"
      ],
      "execution_count": null,
      "outputs": [
        {
          "output_type": "stream",
          "text": [
            "jestem Azor, mam 5 lat i za 5 lat bede mial 10 lat\n"
          ],
          "name": "stdout"
        }
      ]
    },
    {
      "cell_type": "markdown",
      "metadata": {
        "id": "qa0qQbqDkokQ",
        "colab_type": "text"
      },
      "source": [
        "1. Stwórz klase Car, której atrybutami będą kolor, rocznik, cena oraz marka. Klasa ta ma posiadać również metodę (funkcję) wyświetlającą w.w. dane, z tym, że cena ma byc po przecenie, której procent ma być podawany do metody jako zmienna. Stwórz dwa obiekty tej klasy i wykonaj na nich metode."
      ]
    },
    {
      "cell_type": "code",
      "metadata": {
        "id": "LSmLMjKmkokQ",
        "colab_type": "code",
        "colab": {}
      },
      "source": [
        "class Car():\n",
        "    def __init__(self, kolor, rocznik, cena, marka):\n",
        "        self.kolor = kolor\n",
        "        self.rocznik = rocznik\n",
        "        self.cena = cena\n",
        "        self.marka = marka\n",
        "    \n",
        "    def show_details(self, discount):\n",
        "        new_price = (discount/100)*self.cena\n",
        "        print('to jest {} samochod marki {} z rocznika {} i po przecenie kosztuje {}'.\n",
        "              format(self.kolor, self.marka, self.rocznik, new_price))"
      ],
      "execution_count": null,
      "outputs": []
    },
    {
      "cell_type": "code",
      "metadata": {
        "id": "zN6XW_g-kokS",
        "colab_type": "code",
        "colab": {},
        "outputId": "024b66aa-e80a-4ef3-a0db-d040de4f9b01"
      },
      "source": [
        "car1 = Car('zielony', 2018, 50000, 'ford')\n",
        "car1.show_details(50)"
      ],
      "execution_count": null,
      "outputs": [
        {
          "output_type": "stream",
          "text": [
            "to jest zielony samochod marki ford z rocznika 2018 i po przecenie kosztuje 25000.0\n"
          ],
          "name": "stdout"
        }
      ]
    },
    {
      "cell_type": "markdown",
      "metadata": {
        "id": "7coRunSxkokU",
        "colab_type": "text"
      },
      "source": [
        "## GENERATORY"
      ]
    },
    {
      "cell_type": "markdown",
      "metadata": {
        "id": "qRP9kWc5kokU",
        "colab_type": "text"
      },
      "source": [
        "Iterator: by pobrać z niego kolejną wartość, wywołujemy metodę next(). \n",
        "\n",
        "Funkcja z generatorem może również zostać wstrzymana oraz wznowiona od miejsca, w którym została wstrzymana. Na podstawie zapamiętanego, stanu możliwe jest zwracanie różnych wartości podczas kolejnych wstrzymań funkcji. \n",
        "\n",
        "Generatory cechuje leniwa ewaluacja (ang. lazy evaluation), czyli tworzenie kolejnych elementów dopiero przy odwołaniu się do generatora. Technika ta pozwala zredukować liczbę wykonywanych obliczeń, zmniejszyć wykorzystanie pamięci oraz tworzyć nieskończoną ilość elementów."
      ]
    },
    {
      "cell_type": "code",
      "metadata": {
        "id": "zNp4Ox4pkokU",
        "colab_type": "code",
        "colab": {},
        "outputId": "a4aab574-5c16-42b5-f5ab-89513074cdc6"
      },
      "source": [
        "def liczby():\n",
        "    for i in range(11):\n",
        "        yield i * 2\n",
        "\n",
        "for parzysta in liczby():\n",
        "    print(parzysta)\n",
        "    print('ok')"
      ],
      "execution_count": null,
      "outputs": [
        {
          "output_type": "stream",
          "text": [
            "0\n",
            "ok\n",
            "2\n",
            "ok\n",
            "4\n",
            "ok\n",
            "6\n",
            "ok\n",
            "8\n",
            "ok\n",
            "10\n",
            "ok\n",
            "12\n",
            "ok\n",
            "14\n",
            "ok\n",
            "16\n",
            "ok\n",
            "18\n",
            "ok\n",
            "20\n",
            "ok\n"
          ],
          "name": "stdout"
        }
      ]
    },
    {
      "cell_type": "code",
      "metadata": {
        "id": "nsU15xfGkokW",
        "colab_type": "code",
        "colab": {}
      },
      "source": [
        " def generate_numbers():\n",
        "        print(\"start generator\")\n",
        "        yield(1)\n",
        "        print(\"There was one\")\n",
        "        yield(2)\n",
        "        print(\"There was two\")\n",
        "        yield(3)\n",
        "        yield(4)\n",
        "        print(\"end generator\")"
      ],
      "execution_count": null,
      "outputs": []
    },
    {
      "cell_type": "code",
      "metadata": {
        "id": "neTBs0J4kokY",
        "colab_type": "code",
        "colab": {},
        "outputId": "81e14c07-045c-432a-ab7e-70427450f563"
      },
      "source": [
        "generator = generate_numbers()\n",
        "generator"
      ],
      "execution_count": null,
      "outputs": [
        {
          "output_type": "execute_result",
          "data": {
            "text/plain": [
              "<generator object generate_numbers at 0x00000253A3C86C00>"
            ]
          },
          "metadata": {
            "tags": []
          },
          "execution_count": 33
        }
      ]
    },
    {
      "cell_type": "code",
      "metadata": {
        "id": "-OPwL25vkokZ",
        "colab_type": "code",
        "colab": {},
        "outputId": "6a2ee3dd-321f-4082-eb80-95e9091a2d6f"
      },
      "source": [
        "next(generator)"
      ],
      "execution_count": null,
      "outputs": [
        {
          "output_type": "stream",
          "text": [
            "start generator\n"
          ],
          "name": "stdout"
        },
        {
          "output_type": "execute_result",
          "data": {
            "text/plain": [
              "1"
            ]
          },
          "metadata": {
            "tags": []
          },
          "execution_count": 34
        }
      ]
    },
    {
      "cell_type": "code",
      "metadata": {
        "id": "8VYRNQ6lkokb",
        "colab_type": "code",
        "colab": {},
        "outputId": "25947838-601a-4230-90a1-e7613bfe9a94"
      },
      "source": [
        "next(generate_numbers())"
      ],
      "execution_count": null,
      "outputs": [
        {
          "output_type": "stream",
          "text": [
            "start generator\n"
          ],
          "name": "stdout"
        },
        {
          "output_type": "execute_result",
          "data": {
            "text/plain": [
              "1"
            ]
          },
          "metadata": {
            "tags": []
          },
          "execution_count": 36
        }
      ]
    },
    {
      "cell_type": "code",
      "metadata": {
        "id": "Ok4Gr7NZkokd",
        "colab_type": "code",
        "colab": {}
      },
      "source": [
        "def generator_with_return():\n",
        "    for i in range(5):\n",
        "        if i == 3:\n",
        "            return\n",
        "            print('super')\n",
        "        else:\n",
        "            yield Session\n",
        "            Session.close()\n",
        "\n",
        "for x in generator_with_return():\n",
        "    print(x)"
      ],
      "execution_count": null,
      "outputs": []
    }
  ]
}