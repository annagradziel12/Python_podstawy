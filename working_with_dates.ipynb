{
  "nbformat": 4,
  "nbformat_minor": 0,
  "metadata": {
    "kernelspec": {
      "display_name": "Python 3",
      "language": "python",
      "name": "python3"
    },
    "language_info": {
      "codemirror_mode": {
        "name": "ipython",
        "version": 3
      },
      "file_extension": ".py",
      "mimetype": "text/x-python",
      "name": "python",
      "nbconvert_exporter": "python",
      "pygments_lexer": "ipython3",
      "version": "3.7.3"
    },
    "toc": {
      "base_numbering": 1,
      "nav_menu": {},
      "number_sections": true,
      "sideBar": true,
      "skip_h1_title": false,
      "title_cell": "Table of Contents",
      "title_sidebar": "Contents",
      "toc_cell": false,
      "toc_position": {},
      "toc_section_display": true,
      "toc_window_display": false
    },
    "colab": {
      "name": "working_with_dates.ipynb",
      "provenance": [],
      "include_colab_link": true
    }
  },
  "cells": [
    {
      "cell_type": "markdown",
      "metadata": {
        "id": "view-in-github",
        "colab_type": "text"
      },
      "source": [
        "<a href=\"https://colab.research.google.com/github/annagradziel12/Python_podstawy/blob/master/working_with_dates.ipynb\" target=\"_parent\"><img src=\"https://colab.research.google.com/assets/colab-badge.svg\" alt=\"Open In Colab\"/></a>"
      ]
    },
    {
      "cell_type": "markdown",
      "metadata": {
        "id": "vxd5Oivvb3zZ",
        "colab_type": "text"
      },
      "source": [
        "# PRACA Z DATAMI"
      ]
    },
    {
      "cell_type": "markdown",
      "metadata": {
        "id": "oK31aK9ib3zc",
        "colab_type": "text"
      },
      "source": [
        "## Tworzenie zmiennych czasowych"
      ]
    },
    {
      "cell_type": "code",
      "metadata": {
        "id": "SaIOrYe3b3ze",
        "colab_type": "code",
        "colab": {}
      },
      "source": [
        "import datetime\n",
        "from dateutil import parser"
      ],
      "execution_count": null,
      "outputs": []
    },
    {
      "cell_type": "code",
      "metadata": {
        "id": "Z0eseEUBb3zl",
        "colab_type": "code",
        "colab": {},
        "outputId": "3ae516fd-cff2-424f-e272-48c9b33df07c"
      },
      "source": [
        "print(\"1 Hour\")\n",
        "print (datetime.time(1))\n",
        "\n",
        "print(\"2 and a half hour\")\n",
        "print(datetime.time(2, 30))\n",
        "\n",
        "print(\"3 hours, 45 minutes and 30 seconds\")\n",
        "print(datetime.time(3, 45, 30))"
      ],
      "execution_count": null,
      "outputs": [
        {
          "output_type": "stream",
          "text": [
            "1 Hour\n",
            "01:00:00\n",
            "2 and a half hour\n",
            "02:30:00\n",
            "3 hours, 45 minutes and 30 seconds\n",
            "03:45:30\n"
          ],
          "name": "stdout"
        }
      ]
    },
    {
      "cell_type": "code",
      "metadata": {
        "id": "1HxTCLUZb3zs",
        "colab_type": "code",
        "colab": {},
        "outputId": "020ebdad-8672-493b-9d3c-f89352b2b06b"
      },
      "source": [
        "ts_now = datetime.datetime.now()\n",
        "print(ts_now)"
      ],
      "execution_count": null,
      "outputs": [
        {
          "output_type": "stream",
          "text": [
            "0:00:00\n",
            "2020-02-29 14:12:24.144209\n"
          ],
          "name": "stdout"
        }
      ]
    },
    {
      "cell_type": "code",
      "metadata": {
        "id": "V2n0r1Vzb3zw",
        "colab_type": "code",
        "colab": {},
        "outputId": "9047328f-f45b-440d-c903-27ff3074ac0f"
      },
      "source": [
        "print(ts_now.day)"
      ],
      "execution_count": null,
      "outputs": [
        {
          "output_type": "stream",
          "text": [
            "29\n"
          ],
          "name": "stdout"
        }
      ]
    },
    {
      "cell_type": "code",
      "metadata": {
        "id": "jB1mW5gbb3z0",
        "colab_type": "code",
        "colab": {},
        "outputId": "505089db-c593-48c0-df6f-781ae2974929"
      },
      "source": [
        "print(ts_now.year)\n",
        "print(ts_now.month)\n",
        "print(ts_now.minute)\n",
        "print(ts_now.second)\n",
        "print(ts_now.microsecond)\n",
        "\n",
        "print(ts_now.isoweekday())"
      ],
      "execution_count": null,
      "outputs": [
        {
          "output_type": "stream",
          "text": [
            "2020\n",
            "2\n",
            "12\n",
            "24\n",
            "144209\n",
            "6\n"
          ],
          "name": "stdout"
        }
      ]
    },
    {
      "cell_type": "code",
      "metadata": {
        "id": "XTu7ZIRcb3z2",
        "colab_type": "code",
        "colab": {},
        "outputId": "35b95922-a9eb-4732-8c31-4b1c0acad8e1"
      },
      "source": [
        "ts_xmas = datetime.datetime(2020,12,24)\n",
        "type(ts_xmas)"
      ],
      "execution_count": null,
      "outputs": [
        {
          "output_type": "execute_result",
          "data": {
            "text/plain": [
              "datetime.datetime"
            ]
          },
          "metadata": {
            "tags": []
          },
          "execution_count": 9
        }
      ]
    },
    {
      "cell_type": "code",
      "metadata": {
        "id": "2QuiPgWIb3z5",
        "colab_type": "code",
        "colab": {},
        "outputId": "b56ba43d-2031-49fc-fb72-3bad373504ac"
      },
      "source": [
        "ts_diff = ts_xmas - ts_now\n",
        "print (ts_diff)\n",
        "print (type(ts_diff))"
      ],
      "execution_count": null,
      "outputs": [
        {
          "output_type": "stream",
          "text": [
            "298 days, 9:47:35.855791\n",
            "<class 'datetime.timedelta'>\n"
          ],
          "name": "stdout"
        }
      ]
    },
    {
      "cell_type": "code",
      "metadata": {
        "id": "ZvdAmZgwb3z8",
        "colab_type": "code",
        "colab": {},
        "outputId": "037039fb-aaf4-46f3-d808-8b84c5317322"
      },
      "source": [
        "today = datetime.datetime.now()\n",
        "offset = datetime.timedelta(days=45, hours=13)\n",
        "print(today + offset)"
      ],
      "execution_count": null,
      "outputs": [
        {
          "output_type": "stream",
          "text": [
            "2020-04-15 03:17:50.175958\n"
          ],
          "name": "stdout"
        }
      ]
    },
    {
      "cell_type": "markdown",
      "metadata": {
        "id": "Zy9OyB5Jb3z-",
        "colab_type": "text"
      },
      "source": [
        "## KONWERSJA STRINGÓW I DAT\n",
        "- %Y year\n",
        "- %d day\n",
        "- %m month\n",
        "- %H hour\n",
        "- %M minute\n",
        "- %S second"
      ]
    },
    {
      "cell_type": "code",
      "metadata": {
        "id": "QGVmTy4eb3z_",
        "colab_type": "code",
        "colab": {},
        "outputId": "6562cd43-8913-43b7-e9b8-0d4d945cc47d"
      },
      "source": [
        "date_str =  \"01-10-2015T14:34\"\n",
        "date_ts = datetime.datetime.strptime(date_str,\"%m-%d-%YT%H:%M\")\n",
        "print(date_ts)\n",
        "\n",
        "date_str = \"10/01/2015\"\n",
        "date_ts = datetime.datetime.strptime(date_str,\"%d/%m/%Y\")\n",
        "print(date_ts)\n",
        "\n",
        "print(type(date_ts))"
      ],
      "execution_count": null,
      "outputs": [
        {
          "output_type": "stream",
          "text": [
            "2015-01-10 14:34:00\n",
            "2015-01-10 00:00:00\n",
            "<class 'datetime.datetime'>\n"
          ],
          "name": "stdout"
        }
      ]
    },
    {
      "cell_type": "code",
      "metadata": {
        "id": "bVxvD-B9b30B",
        "colab_type": "code",
        "colab": {},
        "outputId": "a4f28837-fa0b-46d5-d4c5-96758a643643"
      },
      "source": [
        "new_date_str = datetime.datetime.strftime(date_ts, \"%H:%M:%S %m-%d-%Y\")\n",
        "print(new_date_str)\n",
        "print(type(new_date_str))"
      ],
      "execution_count": null,
      "outputs": [
        {
          "output_type": "stream",
          "text": [
            "00:00\n",
            "<class 'str'>\n"
          ],
          "name": "stdout"
        },
        {
          "output_type": "execute_result",
          "data": {
            "text/plain": [
              "'2015-01-10 00:00:00'"
            ]
          },
          "metadata": {
            "tags": []
          },
          "execution_count": 19
        }
      ]
    },
    {
      "cell_type": "code",
      "metadata": {
        "id": "KPjcA2b8b30D",
        "colab_type": "code",
        "colab": {},
        "outputId": "a18e25b9-f364-47fb-90da-f10e476283f6"
      },
      "source": [
        "date_ts"
      ],
      "execution_count": null,
      "outputs": [
        {
          "output_type": "execute_result",
          "data": {
            "text/plain": [
              "datetime.datetime(2015, 1, 10, 0, 0)"
            ]
          },
          "metadata": {
            "tags": []
          },
          "execution_count": 21
        }
      ]
    },
    {
      "cell_type": "code",
      "metadata": {
        "id": "0gPwVjoHb30G",
        "colab_type": "code",
        "colab": {},
        "outputId": "379677d7-be57-4999-adb8-97e0e4915c94"
      },
      "source": [
        "print(f'{date_ts.month}-{date_ts.year}')"
      ],
      "execution_count": null,
      "outputs": [
        {
          "output_type": "stream",
          "text": [
            "1-2015\n"
          ],
          "name": "stdout"
        }
      ]
    },
    {
      "cell_type": "code",
      "metadata": {
        "id": "S4dxBj3Xb30I",
        "colab_type": "code",
        "colab": {},
        "outputId": "19141582-93a1-49bf-f94d-74f9ad08e7b8"
      },
      "source": [
        "from datetime import datetime\n",
        "new_date_str = datetime.strftime(date_ts, \"%H:%M:%S %m-%d-%Y\")\n",
        "print(new_date_str)\n",
        "print(type(new_date_str))"
      ],
      "execution_count": null,
      "outputs": [
        {
          "output_type": "stream",
          "text": [
            "00:00:00 01-10-2015\n",
            "<class 'str'>\n"
          ],
          "name": "stdout"
        }
      ]
    },
    {
      "cell_type": "markdown",
      "metadata": {
        "id": "r7Vt-ndWb30N",
        "colab_type": "text"
      },
      "source": [
        "PARSE"
      ]
    },
    {
      "cell_type": "code",
      "metadata": {
        "id": "UxuZfbmxb30O",
        "colab_type": "code",
        "colab": {},
        "outputId": "e285bbe0-0b58-4eda-f0da-a067e377dddf"
      },
      "source": [
        "from dateutil.parser import parse\n",
        "print(parse('January 31, 2010'))\n",
        "parse(\"2003-09-25T10:49:41\")"
      ],
      "execution_count": null,
      "outputs": [
        {
          "output_type": "stream",
          "text": [
            "2010-01-31 00:00:00\n"
          ],
          "name": "stdout"
        },
        {
          "output_type": "execute_result",
          "data": {
            "text/plain": [
              "datetime.datetime(2003, 9, 25, 10, 49, 41)"
            ]
          },
          "metadata": {
            "tags": []
          },
          "execution_count": 26
        }
      ]
    },
    {
      "cell_type": "markdown",
      "metadata": {
        "id": "B-y-AwbZb30Q",
        "colab_type": "text"
      },
      "source": [
        "1. Stwórz zmienną future, której data to 20 stycznia 2021 o 22:34"
      ]
    },
    {
      "cell_type": "code",
      "metadata": {
        "id": "LnjUwzcnb30R",
        "colab_type": "code",
        "colab": {},
        "outputId": "78fa7382-2eac-4b2e-f0d5-a6a2e513d592"
      },
      "source": [
        "future = datetime.datetime(2021,1,20,22,34)\n",
        "print(future)"
      ],
      "execution_count": null,
      "outputs": [
        {
          "output_type": "stream",
          "text": [
            "2021-01-20 22:34:00\n"
          ],
          "name": "stdout"
        }
      ]
    },
    {
      "cell_type": "markdown",
      "metadata": {
        "id": "hOjkhqDOb30T",
        "colab_type": "text"
      },
      "source": [
        "2. Zamień poniższą datę na: ’31 January, 2001, Wednesday’"
      ]
    },
    {
      "cell_type": "code",
      "metadata": {
        "id": "-dRe6Eacb30U",
        "colab_type": "code",
        "colab": {}
      },
      "source": [
        "dt = datetime.datetime(2001, 1, 31)"
      ],
      "execution_count": null,
      "outputs": []
    },
    {
      "cell_type": "code",
      "metadata": {
        "id": "oDdzAfcub30W",
        "colab_type": "code",
        "colab": {},
        "outputId": "141e25df-3aba-4307-84fa-efb364aa9c16"
      },
      "source": [
        "dt.strftime('%d %B, %Y, %A')"
      ],
      "execution_count": null,
      "outputs": [
        {
          "output_type": "execute_result",
          "data": {
            "text/plain": [
              "'31 January, 2001, Wednesday'"
            ]
          },
          "metadata": {
            "tags": []
          },
          "execution_count": 42
        }
      ]
    },
    {
      "cell_type": "markdown",
      "metadata": {
        "id": "8mVZQdH1b30a",
        "colab_type": "text"
      },
      "source": [
        "https://docs.python.org/3/library/datetime.html#strftime-and-strptime-format-codes"
      ]
    },
    {
      "cell_type": "markdown",
      "metadata": {
        "id": "ffC4F0fXb30b",
        "colab_type": "text"
      },
      "source": [
        "3. Stwórz zmienną, która jest różnicą czasu future i chwili obecnej. wynik wyświetl w sekundach"
      ]
    },
    {
      "cell_type": "code",
      "metadata": {
        "id": "MpchR8-Xb30b",
        "colab_type": "code",
        "colab": {},
        "outputId": "d573bfd4-ab0d-485a-f0ec-57775fd8bbf4"
      },
      "source": [
        "td = future - datetime.datetime.now()\n",
        "print(td)"
      ],
      "execution_count": null,
      "outputs": [
        {
          "output_type": "stream",
          "text": [
            "326 days, 6:49:21.779138\n"
          ],
          "name": "stdout"
        }
      ]
    },
    {
      "cell_type": "code",
      "metadata": {
        "id": "_oJkxF5pb30f",
        "colab_type": "code",
        "colab": {},
        "outputId": "c50df7f1-9697-4da3-cb4e-45f49fec6395"
      },
      "source": [
        "print(td.total_seconds())\n",
        "print(td.days*24*60*60 + td.seconds)"
      ],
      "execution_count": null,
      "outputs": [
        {
          "output_type": "stream",
          "text": [
            "28190961.779138\n",
            "28190961\n"
          ],
          "name": "stdout"
        }
      ]
    },
    {
      "cell_type": "markdown",
      "metadata": {
        "id": "LRyNZdWJb30i",
        "colab_type": "text"
      },
      "source": [
        "4. Zamień napis 'Jan 20, 2017 5pm' na zmienną typu czas"
      ]
    },
    {
      "cell_type": "code",
      "metadata": {
        "id": "wKpL9WY-b30j",
        "colab_type": "code",
        "colab": {},
        "outputId": "212264af-0793-42a7-e606-281511af1e4a"
      },
      "source": [
        "s = 'Jan 20, 2017 5pm'\n",
        "datetime.datetime.strptime(s, '%b %d, %Y %I%p')"
      ],
      "execution_count": null,
      "outputs": [
        {
          "output_type": "execute_result",
          "data": {
            "text/plain": [
              "datetime.datetime(2017, 1, 20, 17, 0)"
            ]
          },
          "metadata": {
            "tags": []
          },
          "execution_count": 45
        }
      ]
    },
    {
      "cell_type": "markdown",
      "metadata": {
        "id": "8ZuvKEUzb30m",
        "colab_type": "text"
      },
      "source": [
        "5. W poniższej liście dat znajdź najstarszą. Wyświetl czas, jaki upłynął od tej chwili do teraz w sekundach "
      ]
    },
    {
      "cell_type": "code",
      "metadata": {
        "id": "KJJCjKbLb30n",
        "colab_type": "code",
        "colab": {}
      },
      "source": [
        "datetime_list = ['25.08.1995 00:00:00', '22.07.1999 00:00:00', '01.01.2001 13:42:59', '13.12.2011 01:02:03']"
      ],
      "execution_count": null,
      "outputs": []
    },
    {
      "cell_type": "code",
      "metadata": {
        "id": "n9fAfG4vb30p",
        "colab_type": "code",
        "colab": {},
        "outputId": "ae80bd0f-6565-4d5a-d83d-eaa3c435c44d"
      },
      "source": [
        "format_d = \"%d.%m.%Y %H:%M:%S\"\n",
        "\n",
        "time_now = datetime.datetime.now()\n",
        "datetime_list = [datetime.datetime.strptime(x, format_d) for x in datetime_list]\n",
        "(time_now - min(datetime_list)).total_seconds()"
      ],
      "execution_count": null,
      "outputs": [
        {
          "output_type": "execute_result",
          "data": {
            "text/plain": [
              "773682714.911423"
            ]
          },
          "metadata": {
            "tags": []
          },
          "execution_count": 69
        }
      ]
    },
    {
      "cell_type": "code",
      "metadata": {
        "id": "TvcDPvdab30s",
        "colab_type": "code",
        "colab": {},
        "outputId": "0d48adcc-7edd-44ff-8cf1-0be11f190692"
      },
      "source": [
        "min(datetime_list)"
      ],
      "execution_count": null,
      "outputs": [
        {
          "output_type": "execute_result",
          "data": {
            "text/plain": [
              "datetime.datetime(2011, 12, 13, 1, 2, 3)"
            ]
          },
          "metadata": {
            "tags": []
          },
          "execution_count": 58
        }
      ]
    },
    {
      "cell_type": "markdown",
      "metadata": {
        "id": "LW2wu8W8b30v",
        "colab_type": "text"
      },
      "source": [
        "6. Ile minęło sobót pomiędzy dwoma poniższymi latami, które przypadają na dzień podzielny przez 3? (odp: 14)"
      ]
    },
    {
      "cell_type": "code",
      "metadata": {
        "id": "hOnbL5iMb30w",
        "colab_type": "code",
        "colab": {}
      },
      "source": [
        "d1 = datetime.date(1869, 1, 2)\n",
        "d2 = datetime.date(1869, 10, 2)"
      ],
      "execution_count": null,
      "outputs": []
    },
    {
      "cell_type": "code",
      "metadata": {
        "id": "mK2s6Uuob30y",
        "colab_type": "code",
        "colab": {},
        "outputId": "2a71742e-5087-4a4b-aa14-907a94b25b11"
      },
      "source": [
        "delta = d2 - d1\n",
        "delta"
      ],
      "execution_count": null,
      "outputs": [
        {
          "output_type": "execute_result",
          "data": {
            "text/plain": [
              "datetime.timedelta(days=273)"
            ]
          },
          "metadata": {
            "tags": []
          },
          "execution_count": 52
        }
      ]
    },
    {
      "cell_type": "code",
      "metadata": {
        "id": "fGziW89gb300",
        "colab_type": "code",
        "colab": {},
        "outputId": "29b3a49d-578b-4c0a-e509-dc8cdd61be62"
      },
      "source": [
        "dates_btw_d1d2 = [(d1 + datetime.timedelta(i)) for i in range(delta.days + 1)]\n",
        "dates_btw_d1d2[:10]"
      ],
      "execution_count": null,
      "outputs": [
        {
          "output_type": "execute_result",
          "data": {
            "text/plain": [
              "[datetime.date(1869, 1, 2),\n",
              " datetime.date(1869, 1, 3),\n",
              " datetime.date(1869, 1, 4),\n",
              " datetime.date(1869, 1, 5),\n",
              " datetime.date(1869, 1, 6),\n",
              " datetime.date(1869, 1, 7),\n",
              " datetime.date(1869, 1, 8),\n",
              " datetime.date(1869, 1, 9),\n",
              " datetime.date(1869, 1, 10),\n",
              " datetime.date(1869, 1, 11)]"
            ]
          },
          "metadata": {
            "tags": []
          },
          "execution_count": 53
        }
      ]
    },
    {
      "cell_type": "code",
      "metadata": {
        "id": "YdHUeV7yb302",
        "colab_type": "code",
        "colab": {},
        "outputId": "67b90abd-463c-470f-89c8-80ad5669859f"
      },
      "source": [
        "dates_btw_d1d2 = [(d1 + datetime.timedelta(i)) for i in range(delta.days + 1)]\n",
        "\n",
        "n_saturdays = 0\n",
        "for d in dates_btw_d1d2:\n",
        "    if int(d.day) % 3==0 and d.isoweekday() == 6: \n",
        "        print(d.day, d)\n",
        "        n_saturdays += 1\n",
        "\n",
        "print(n_saturdays)    "
      ],
      "execution_count": null,
      "outputs": [
        {
          "output_type": "stream",
          "text": [
            "9 1869-01-09\n",
            "30 1869-01-30\n",
            "6 1869-02-06\n",
            "27 1869-02-27\n",
            "6 1869-03-06\n",
            "27 1869-03-27\n",
            "3 1869-04-03\n",
            "24 1869-04-24\n",
            "15 1869-05-15\n",
            "12 1869-06-12\n",
            "3 1869-07-03\n",
            "24 1869-07-24\n",
            "21 1869-08-21\n",
            "18 1869-09-18\n",
            "14\n"
          ],
          "name": "stdout"
        }
      ]
    }
  ]
}